{
 "cells": [
  {
   "cell_type": "markdown",
   "id": "82e26a79",
   "metadata": {},
   "source": [
    "### 0. Fuentes del profesor"
   ]
  },
  {
   "cell_type": "markdown",
   "id": "ffffeb4f",
   "metadata": {},
   "source": [
    "https://loe.org/images/content/091023/Zombie%20Publication.pdf - Paper de \"When Zombies Attack\" cuyo modelo debemos reproducir\n",
    "\n",
    "\n",
    "http://thetortoiseslens.blogspot.com/2010/03/agent-based-computational-model-of.html - Modelacion de Agentes en Punto 5.1"
   ]
  },
  {
   "cell_type": "markdown",
   "id": "87e96e02",
   "metadata": {},
   "source": [
    "### 1. Reproduccion del Modelo\n",
    "En el artículo _WHEN ZOMBIES ATTACK!: MATHEMATICAL MODELLING OF AN OUTBREAK OF ZOMBIE INFECTION_ se muestra el modelado básico del modelo **SIR** para una epidemia. Reproduzca los modelos ahí presentados. \n"
   ]
  },
  {
   "cell_type": "markdown",
   "id": "cd5962ae",
   "metadata": {},
   "source": [
    "##### Fuentes Adicionales: \n",
    "Teoricamente: https://complejidad.iiec.unam.mx/cursotaller2020/casos/modeloSIR.php\n",
    "\n",
    "Implementacion en Python: https://blog.devgenius.io/pandemic-modeling-with-python-the-sir-model-16b5f8348e85\n",
    "\n",
    "https://python.quantecon.org/sir_model.html\n",
    "\n",
    "https://towardsdatascience.com/infectious-disease-modelling-part-i-understanding-sir-28d60e29fdfc?gi=7d6da078a7f7\n",
    "\n",
    "https://www.cracked.com/article_18683_7-scientific-reasons-zombie-outbreak-would-fail-quickly.html"
   ]
  },
  {
   "cell_type": "code",
   "execution_count": 1,
   "id": "6cd58214",
   "metadata": {},
   "outputs": [],
   "source": [
    "%matplotlib inline\n",
    "import matplotlib.pyplot as plt\n",
    "plt.rcParams[\"figure.figsize\"] = (11, 5)  #set default figure size\n",
    "import numpy as np\n",
    "from numpy import exp"
   ]
  },
  {
   "cell_type": "code",
   "execution_count": null,
   "id": "a19548ea",
   "metadata": {},
   "outputs": [],
   "source": [
    "N = 1000\n",
    "beta = 0.5  #Infeccion por encuentro\n",
    "alfa = 0.7 #Tasa de muerte zombie (i.e., que tan probable es matar a un zombie en un encuentro con el)\n",
    "zeta = 0.2 #que tan probable es que alguien que muere de S reviva como zombie\n",
    "#asumimos que los Z no pueden volver a revivir como Z\n",
    "rho = 1.0 # Cuanto tarda un infectado en volverse zombie\n",
    "\n",
    "#tasas de cuarentena\n",
    "kappa = 0 # de infectados\n",
    "sigma = 0 # de zombies\n",
    "\n",
    "#tasa de intento de escape\n",
    "gamma = 0\n",
    "\n",
    "#tasa de curacion\n",
    "c = 0\n",
    "\n",
    "delta = 0 # la tasa de muerte natural/por causas no directamente atribuibles a encuentro con zombie\n",
    "pi = 0 #Tasa de nacimiento\n",
    "\n",
    "S0, I0, R0 = 999, 1, 0  # Condiciones Iniciales: 1 infectado, resto suceptible"
   ]
  },
  {
   "cell_type": "code",
   "execution_count": 3,
   "id": "b3757095",
   "metadata": {},
   "outputs": [],
   "source": [
    "#El caso 1 es el caso basico\n",
    "\n",
    "class ODEs:\n",
    "    \n",
    "    def __init__(self, beta, alfa, zeta, rho=0, kappa=0, sigma=0, gamma=0, c=0, delta=0, pi=0):\n",
    "        self.beta = beta\n",
    "        self.alfa = alfa\n",
    "        self.zeta = zeta\n",
    "        self.rho = rho\n",
    "        self.gamma = gamma\n",
    "        \n",
    "        self.kappa = kappa\n",
    "        self.sigma = gamma\n",
    "        \n",
    "        self.c = c\n",
    "\n",
    "        self.delta = delta\n",
    "        self.pi = pi  \n",
    "    \n",
    "    def ode_caso_basico(self, S, Z, R):\n",
    "        dSdt = self.pi - (self.beta * S * Z) - (self.delta * S)\n",
    "        dZdt = (self.beta * S * Z) + (self.zeta * R) - (self.alfa*S*Z)\n",
    "        dRdt = (self.delta * S) + (self.alfa * S * Z) - (self.zeta*R)\n",
    "        return dSdt, dZdt, dRdt\n",
    "    \n",
    "    def ode_caso_latente(self, S, Z, I, R):\n",
    "        dSdt = self.pi - (self.beta * S * Z) - (self.delta * S)\n",
    "        dIdt = (self.beta * S * Z) - (self.rho*I) - (self.delta*I)\n",
    "        dZdt = (self.rho*I) + (self.zeta * R) - (self.alfa*S*Z)\n",
    "        dRdt = (self.delta * S) + (self.delta * I) + (self.alfa * S * Z) - (self.zeta*R)\n",
    "        return dSdt, dIdt, dZdt, dRdt\n",
    "    \n",
    "    def ode_caso_cuarentena(self, S, Z, I, R):\n",
    "        dSdt = self.pi - (self.beta * S * Z) - (self.delta * S)\n",
    "        dIdt = (self.beta * S * Z) - (self.rho*I) - (self.delta*I) - (self.kappa * I)\n",
    "        dZdt = (self.rho*I) + (self.zeta * R) - (self.alfa*S*Z) - (self.sigma*Z)\n",
    "        dRdt = (self.delta * S) + (self.delta * I) + (self.alfa * S * Z) - (self.zeta*R) + (self.gamma * Q)\n",
    "        \n",
    "        dQdt = (self.kappa * I) + (self.sigma * Z)  - (self.gamma*Q)\n",
    "        \n",
    "        return dSdt, dIdt, dZdt, dRdt, dQdt\n",
    "\n",
    "    def ode_caso_tratamiento(self, S, Z, I, R):\n",
    "        dSdt = self.pi - (self.beta * S * Z) - (self.delta * S) + (self.c * Z)\n",
    "        dIdt = (self.beta * S * Z) - (self.rho*I) - (self.delta*I)\n",
    "        dZdt = (self.rho*I) + (self.zeta * R) - (self.alfa*S*Z) - (self.c * Z)\n",
    "        dRdt = (self.delta * S) + (self.delta * I) + (self.alfa * S * Z) - (self.zeta*R)\n",
    "        \n",
    "        return dSdt, dIdt, dZdt, dRdt\n",
    "    \n",
    "    \n",
    "    def ode_ataques(self, Z, k, n):\n",
    "        zombies_erradicados = k*n*Z\n",
    "        return zombies_erradicados\n",
    "        \n",
    "        \n",
    "    def ode_colateral_de_ataques(self, S, I, collateral, n):\n",
    "        muertes_en_combate = collateral * n * (S+I)\n",
    "        return muertes_en_combate"
   ]
  },
  {
   "cell_type": "code",
   "execution_count": 45,
   "id": "9ab1c566",
   "metadata": {},
   "outputs": [
    {
     "name": "stdout",
     "output_type": "stream",
     "text": [
      "Humanos:  999\n",
      "Infectados:  10\n",
      "Zombies:  10\n",
      "Humanos:  -8911\n",
      "Infectados:  10000\n",
      "Zombies:  -20050.0\n"
     ]
    }
   ],
   "source": [
    "N = 1000\n",
    "beta = 1  #Infeccion por encuentro\n",
    "alfa = 0.2 #Tasa de muerte zombie (i.e., que tan probable es matar a un zombie en un encuentro con el)\n",
    "zeta = 0.8 #que tan probable es que alguien que muere de S reviva como zombie\n",
    "#asumimos que los Z no pueden volver a revivir como Z\n",
    "rho = 1.0 # Cuanto tarda un infectado en volverse zombie\n",
    "c = 8 #tasa de curacion\n",
    "\n",
    "escenario_optimista = ODEs(beta=beta, alfa=alfa, zeta=zeta, c=c)\n",
    "\n",
    "\n",
    "S=999\n",
    "I=10\n",
    "Z=10\n",
    "R=0\n",
    "\n",
    "cambio_en_S = 0\n",
    "cambio_en_I = 0\n",
    "cambio_en_Z = 0\n",
    "cambio_en_R = 0\n",
    "while(S >= 0 and Z >= 0):\n",
    "    S += cambio_en_S\n",
    "    I += cambio_en_I\n",
    "    Z += cambio_en_Z\n",
    "    R += cambio_en_R\n",
    "    print(\"Humanos: \", S)\n",
    "    print(\"Infectados: \", I)\n",
    "    print(\"Zombies: \", Z)\n",
    "    cambio_en_S, cambio_en_I, cambio_en_Z, cambio_en_R = escenario_optimista.ode_caso_tratamiento(S, Z, I, R)\n",
    "    \n",
    "    \n",
    "    \n",
    "    \n",
    "    "
   ]
  },
  {
   "cell_type": "code",
   "execution_count": 19,
   "id": "928068b3",
   "metadata": {},
   "outputs": [
    {
     "name": "stdout",
     "output_type": "stream",
     "text": [
      "-89.9\n"
     ]
    }
   ],
   "source": [
    "print(cambio_en_S)"
   ]
  },
  {
   "cell_type": "code",
   "execution_count": null,
   "id": "8e884a3a",
   "metadata": {},
   "outputs": [],
   "source": []
  },
  {
   "cell_type": "code",
   "execution_count": null,
   "id": "dd359376",
   "metadata": {},
   "outputs": [],
   "source": []
  },
  {
   "cell_type": "markdown",
   "id": "c192a61e",
   "metadata": {},
   "source": [
    "### 2. ¿Cuáles son las diferencias entre una epidemia normal (influenza, gripe, peste) y una epidemia zombie?\n"
   ]
  },
  {
   "cell_type": "code",
   "execution_count": null,
   "id": "7d5d0723",
   "metadata": {},
   "outputs": [],
   "source": []
  },
  {
   "cell_type": "code",
   "execution_count": null,
   "id": "3285ad42",
   "metadata": {},
   "outputs": [],
   "source": []
  },
  {
   "cell_type": "code",
   "execution_count": null,
   "id": "46f75586",
   "metadata": {},
   "outputs": [],
   "source": []
  },
  {
   "cell_type": "markdown",
   "id": "70290049",
   "metadata": {},
   "source": [
    "### 3.Criticas\n",
    "Se han hecho muchas críticas al artículo (e.g. _Zombie Apocalypse: An Epidemic Model_) indicando que hay errores y que las gráficas no corresponden ¿Es cierto? Si es afirmativa la respuesta, ¿Cuáles son esos errores?"
   ]
  },
  {
   "cell_type": "code",
   "execution_count": null,
   "id": "849d48ab",
   "metadata": {},
   "outputs": [],
   "source": []
  },
  {
   "cell_type": "markdown",
   "id": "280526ba",
   "metadata": {},
   "source": [
    "## Le faltaron algunos casos: \n",
    "\n",
    "### El caso del tratamiento con inmunidad\n",
    "\n",
    "### Las muertes colaterales cuando se ataca a los zombies\n",
    "\n",
    "###  "
   ]
  },
  {
   "cell_type": "code",
   "execution_count": null,
   "id": "4ba66c05",
   "metadata": {},
   "outputs": [],
   "source": []
  },
  {
   "cell_type": "code",
   "execution_count": null,
   "id": "94fec9b6",
   "metadata": {},
   "outputs": [],
   "source": []
  },
  {
   "cell_type": "markdown",
   "id": "1a02f925",
   "metadata": {},
   "source": [
    "### 4. Upgrades\n",
    "De la presentación _Zombie Apocalypse: An Epidemic Model_ se presentan varios `upgrades`, desarróllalos y coméntalos ¿Por qué son `upgrades`? ¿Qué mejoras proponen?\n"
   ]
  },
  {
   "cell_type": "code",
   "execution_count": null,
   "id": "812fa0a4",
   "metadata": {},
   "outputs": [],
   "source": []
  },
  {
   "cell_type": "code",
   "execution_count": null,
   "id": "8b772dec",
   "metadata": {},
   "outputs": [],
   "source": []
  },
  {
   "cell_type": "code",
   "execution_count": null,
   "id": "95b4fd7c",
   "metadata": {},
   "outputs": [],
   "source": []
  },
  {
   "cell_type": "markdown",
   "id": "0acb3aeb",
   "metadata": {},
   "source": [
    "### 5.1 **Agentes** \n",
    "Use la clase agente para modelar una epidemia Zombie como se describe en [Agent-Based Computational Model of Humanity’s Prospects for Post Zombie Outbreak Survival](http://thetortoiseslens.blogspot.mx/2010/03/agent-based-computational-model-of.html). Utiliza el diagrama del artículo _SimZombie: A Case-Study in Agent-Based Simulation Construction_ como guía."
   ]
  },
  {
   "cell_type": "code",
   "execution_count": 36,
   "id": "821be6cf",
   "metadata": {},
   "outputs": [],
   "source": [
    "import random\n",
    "import numpy as np\n",
    "from numpy import *\n",
    "import matplotlib.pyplot as plt\n",
    "from matplotlib import animation, rc\n",
    "from IPython.display import HTML"
   ]
  },
  {
   "cell_type": "code",
   "execution_count": 8,
   "id": "b136bb9a",
   "metadata": {},
   "outputs": [],
   "source": [
    "#Aqui el mundo sin cambiar de la clase\n",
    "class Mundo:\n",
    "    def __init__(self, agentes, ancho=8, alto=8, steps = 10):\n",
    "        self.agentes = agentes\n",
    "        self.ancho = ancho\n",
    "        self.alto = alto\n",
    "        self.steps = steps\n",
    "        self.init_anim()\n",
    "        \n",
    "        print (\"Creado el mundo\")\n",
    "        \n",
    "    def init_anim(self):\n",
    "        self.fig = plt.figure(figsize=(self.ancho, self.alto))\n",
    "        self.ax = plt.axes(xlim=(0, 10), ylim=(0, 10))\n",
    "        plot_args = {'markersize' : 8, 'alpha' : 0.6}\n",
    "        self.puntos, = self.ax.plot([], [], 'o', **plot_args)\n",
    "       \n",
    "       \n",
    "    def dibujar(self, step):\n",
    "        x_values_0, y_values_0 = [], []\n",
    "        for agente in self.agentes:\n",
    "            x, y = agente.locacion\n",
    "            x_values_0.append(x)\n",
    "            y_values_0.append(y)\n",
    "\n",
    "        self.puntos.set_data(x_values_0, y_values_0)\n",
    "        \n",
    "        self.ax.set_title('Paso {}'.format(step))\n",
    "        \n",
    "        return self.puntos,\n",
    "       \n",
    "    def actualizar(self, step):   \n",
    "        self.dibujar(step) # Dibuja el mundo\n",
    "        \n",
    "        for agente in self.agentes:\n",
    "            agente.actualizar(self.agentes)\n",
    "    \n",
    "    def clean_screen(self):\n",
    "        self.puntos.set_data([], [])\n",
    "        return self.puntos,\n",
    "          \n",
    "    def simular(self):\n",
    "        anim = animation.FuncAnimation(self.fig, self.actualizar, init_func=self.clean_screen, frames=self.steps, interval=1000, blit=False)\n",
    "        return anim\n"
   ]
  },
  {
   "cell_type": "code",
   "execution_count": 66,
   "id": "f6d35b42",
   "metadata": {},
   "outputs": [],
   "source": [
    "class Zombie:\n",
    "    def __init__(self, delta=0.1, rango=0.25, tipo = 'Zombie'):\n",
    "        self.delta = delta # Tamaño de paso en x y y\n",
    "        self.rango = rango #rango de persepcion\n",
    "        self.tipo = tipo\n",
    "        self.locacion = np.array((5,5))\n",
    "        self.en_rango = False\n",
    "        self.siguiente_accion = None \n",
    "        \n",
    "    def distancia(self, otro):\n",
    "        \"Calcula la distancia euclídea entre este agente y otro.\"\n",
    "        return np.linalg.norm(self.locacion - otro.locacion)  \n",
    "\n",
    "        \n",
    "    def actuar(self, agentes):\n",
    "        self.locacion = self.locacion - self.siguiente_accion*self.delta\n",
    "        self.persecucion(agentes)\n",
    "        \n",
    "    def morir(self, agentes):\n",
    "        pass\n",
    "        \n",
    "    def decision(self, agentes):\n",
    "        \"\"\"Verdadero si un humano esta en rango\"\"\"\n",
    "        distancias = []\n",
    "        # Distancias es una lista de pares (distancia, agente)\n",
    "\n",
    "        for agente in agentes:\n",
    "            if self.tipo != agente.tipo:\n",
    "                distancia = self.distancia(agente)\n",
    "                distancias.append((distancia, agente))\n",
    "        # Ordenamos del más cercano al más lejano \n",
    "        distancias.sort(reverse = True)\n",
    "        #Checar si el humano más cercano esta en rango de persecucion\n",
    "        if distancias[0][0] <= self.rango:\n",
    "            self.en_rango = True\n",
    "            self.siguiente_accion = self.persecucion\n",
    "        else:\n",
    "            self.siguiente_accion = np.array([random.uniform(-1, 1), random.uniform(-1,1)])\n",
    "            \n",
    "    def persecucion(self, agentes):\n",
    "        if self.en_rango == True:\n",
    "            distancias = []\n",
    "            # Distancias es una lista de pares (distancia, agente)\n",
    "            for agente in agentes:\n",
    "                if self != agente:\n",
    "                    distancia = self.distancia(agente)\n",
    "                    distancias.append((distancia, agente))\n",
    "            # Ordenamos del más cercano al más lejano \n",
    "            distancias.sort(reverse = True)\n",
    "            presa = distancias[0][1]\n",
    "            direccion_a_tomar = presa.locacion - self.locacion\n",
    "            return direccion_a_tomar\n",
    "        else:\n",
    "            pass\n",
    "    \n",
    "    \n",
    "    def actualizar(self, agentes):\n",
    "        self.decision(agentes)\n",
    "        self.actuar(agentes)"
   ]
  },
  {
   "cell_type": "code",
   "execution_count": 65,
   "id": "747eb9fb",
   "metadata": {},
   "outputs": [],
   "source": [
    "class Humano:\n",
    "    def __init__(self, delta=0.1, rango=5, tipo = 'Humano', punto_seguro1=(3,7), punto_seguro2=(7,3)):\n",
    "        self.delta = delta # Tamaño de paso en x y y\n",
    "        self.tipo = tipo\n",
    "        self.locacion = np.array((radom.uniform(1,9), random.uniform(1,9)))\n",
    "        self.siguiente_accion = None \n",
    "        self.punto_seguro1 = punto_seguro1\n",
    "        self.punto_seguro2 = punto_seguro2\n",
    "        \n",
    "    def distancia(self, otro):\n",
    "        \"Calcula la distancia euclídea entre este agente y otro.\"\n",
    "        return np.linalg.norm(self.locacion - otro.locacion)  \n",
    "    \n",
    "    def actuar(self, agentes):\n",
    "        self.locacion = self.locacion - self.siguiente_accion*self.delta\n",
    "        \n",
    "    def decision(self, agentes):\n",
    "        \"\"\"Verdadero si un humano esta en rango\"\"\"\n",
    "        distancias = []\n",
    "        # Distancias es la lista de los dos puntos seguros)\n",
    "        \n",
    "        \n",
    "    def actualizar(self, agentes):\n",
    "        self.decision(agentes)\n",
    "        self.actuar(agentes)"
   ]
  },
  {
   "cell_type": "markdown",
   "id": "bed8a655",
   "metadata": {},
   "source": [
    "# Cambiar mundo por algo estilo Schelling"
   ]
  },
  {
   "cell_type": "code",
   "execution_count": 61,
   "id": "88e7217a",
   "metadata": {},
   "outputs": [
    {
     "name": "stdout",
     "output_type": "stream",
     "text": [
      "Creado el mundo\n"
     ]
    },
    {
     "data": {
      "image/png": "[encoded data removed]",
      "text/plain": [
       "<Figure size 576x576 with 1 Axes>"
      ]
     },
     "metadata": {
      "needs_background": "light"
     },
     "output_type": "display_data"
    }
   ],
   "source": [
    "num_agentes = 5\n",
    "\n",
    "agentes_simples = [Zombie() for i in range(num_agentes)]\n",
    "\n",
    "\n",
    "sin_chiste = Mundo(agentes = agentes_simples, steps = 10) \n",
    "\n",
    "\n",
    "simulacion = sin_chiste.simular()"
   ]
  },
  {
   "cell_type": "code",
   "execution_count": 62,
   "id": "68e0c492",
   "metadata": {},
   "outputs": [
    {
     "data": {
      "text/html": [
       "<video width=\"576\" height=\"576\" controls autoplay loop>\n",
       "  <source type=\"video/mp4\" src=\"data:video/mp4;base64,AAAAHGZ0eXBNNFYgAAACAGlzb21pc28yYXZjMQAAAAhmcmVlAAAVVG1kYXQAAAKtBgX//6ncRem9\n",
       "5tlIt5Ys2CDZI+7veDI2NCAtIGNvcmUgMTU1IHIyOTE3IDBhODRkOTggLSBILjI2NC9NUEVHLTQg\n",
       "QVZDIGNvZGVjIC0gQ29weWxlZnQgMjAwMy0yMDE4IC0gaHR0cDovL3d3dy52aWRlb2xhbi5vcmcv\n",
       "eDI2NC5odG1sIC0gb3B0aW9uczogY2FiYWM9MSByZWY9MyBkZWJsb2NrPTE6MDowIGFuYWx5c2U9\n",
       "MHgzOjB4MTEzIG1lPWhleCBzdWJtZT03IHBzeT0xIHBzeV9yZD0xLjAwOjAuMDAgbWl4ZWRfcmVm\n",
       "PTEgbWVfcmFuZ2U9MTYgY2hyb21hX21lPTEgdHJlbGxpcz0xIDh4OGRjdD0xIGNxbT0wIGRlYWR6\n",
       "b25lPTIxLDExIGZhc3RfcHNraXA9MSBjaHJvbWFfcXBfb2Zmc2V0PS0yIHRocmVhZHM9NiBsb29r\n",
       "YWhlYWRfdGhyZWFkcz0xIHNsaWNlZF90aHJlYWRzPTAgbnI9MCBkZWNpbWF0ZT0xIGludGVybGFj\n",
       "ZWQ9MCBibHVyYXlfY29tcGF0PTAgY29uc3RyYWluZWRfaW50cmE9MCBiZnJhbWVzPTMgYl9weXJh\n",
       "bWlkPTIgYl9hZGFwdD0xIGJfYmlhcz0wIGRpcmVjdD0xIHdlaWdodGI9MSBvcGVuX2dvcD0wIHdl\n",
       "aWdodHA9MiBrZXlpbnQ9MjUwIGtleWludF9taW49MSBzY2VuZWN1dD00MCBpbnRyYV9yZWZyZXNo\n",
       "PTAgcmNfbG9va2FoZWFkPTQwIHJjPWNyZiBtYnRyZWU9MSBjcmY9MjMuMCBxY29tcD0wLjYwIHFw\n",
       "bWluPTAgcXBtYXg9NjkgcXBzdGVwPTQgaXBfcmF0aW89MS40MCBhcT0xOjEuMDAAgAAACERliIQA\n",
       "F//+99S3zLLtU2+2C6j3op4mX0N1JQGblsTtOoAAAAMAAAMABBemSeywS24gSzAAAD1gBAnmTyCZ\n",
       "eYb8QA3MhKXZZLk8vCjzLRuvP0if4xybal05dn8tVsyszRhxcPS/sOE2VhBzITKflWiS9aSZZo7H\n",
       "pyUITTLBdJg5V82bOhDGrPyO98Ay0+zDG9ojshgXr5sfbkqr4BdiOKPKf9JY8H9N3FUZ3yhZDa1w\n",
       "dBv4bhQ5d5BowqRGx64EzaF6EsjZfqUGze8RVy8TkR8w6xRrfNNaQjZvhGJkDUJIlqKhLwtMaybD\n",
       "3Bu/bIwycRLjrKO3eMJLSQVbyU44X4b8rTzcmEdK7G+SI077pbLB3HbFxAOq5jRz/l+6RB/WDtwp\n",
       "gp2mO9rPsIMr1nX6m+36Cbr5Dx181vtWeqbKTFDZ/ogL/SX6anQPMLg7qSDyeqcSV17TkFwuBBT/\n",
       "nDiZ0RxciHU4U80fc4xHlfEYZJ6t4PpVmDIuB3Zzpst09lnlb7ECGx4+oRlDTc9is8VDtj5918cB\n",
       "vhjT1GXORGt5NEslD0HULsi+8JA48bsVp8MIVVIvV7YUB7unqeTvPuGw9LEAyscwklxbzBaNfqir\n",
       "+LkxIun4beKkwp/ZBxJUx5rWZGwk2KOSexgAV0M6wzZNGSPy7RVydg9qap2kE5wT0r8Ii3lBYDOY\n",
       "N/3ra/BZfUQA+eb78odEWa+RnzPyBQAAxAfw8CsMo11ZGSDYtfCno4mZqaF8CXEqB4SFD0WK42LN\n",
       "x42MB5v4MNAb+lS29SDWL1aFA/0DfdgqS4vE3lc3anCHb9xcRsRPUb0bUSPluoUrxeOknBmUUASx\n",
       "jiNgDOSuhKblOUmL7Mm9IlP2GIZdTgCK8b00iPMlxlHwpeQ+HN/xWE15GwCa/yjUumjKwclDCB9a\n",
       "644SNbUxoAvVOF3bU1raJmeMXM1+Lpcg+FoH0BYiET5gGZWyJS80euJ06lwd1fOi3FFfQYZ5sHFh\n",
       "W6dr32IksOaSh6cf8wM9Ln4Hbve9ybshVDE5Lr13H8Q33HqZgBBsr70xIuevPdr7I7fBuFdI440q\n",
       "pnLnRJZX3am6j+oAAAMAXohHPK4F3mq6Rc9+UTiSDenWuZHc7j20ybHNOuNOEyVgXtvs/QTJF8Dm\n",
       "L5et/73ukUJv4pixIPeYK65HAKULqEEpAHE9GiaFC1TMttPBWB7J3nTlCdzYkEwQ5E8FfuNeLeum\n",
       "PPwyp9fsEGRUxhPi1X4HN9iAZlXAOMo+V9mTqf08kA4IdqA5UYZR3+tEFKescVXYAwzhqIx1/xTE\n",
       "ds6jbuEwI30KEla+rWFZ1RCU6YHKo+wDH+34v8NKe9fJjA/TqiTY8xTKem8rx8Xus+Cxu5oVn0kH\n",
       "rfHBMURwDBoTppBySD28Y29yVscEVEf9tiMEfUfA3fK1FZctQPV2hAEzJFVgMmkZXaoSSxEMwAAA\n",
       "BJQePc+WnHHBUAOfLKXRqtsb3c0LsPdN+U8QN0Ho+CjwLhYdTCSVUz1uLwMBrrEHf2wpc+NQBX9S\n",
       "XGwCah75cjIM/UG6vf+xip2+nuyE86L7QOHTh/wT4iu1LxUOtfQG2GDWMfYL1vgr74n4g2WP9RAB\n",
       "3NtKZ9Kk0G3OdXOnGdLfy8SXfiTCP9Y3sL0+NYuIbAD+mO6a65QAAAMAABjWR6rTECNvAmLmU8YZ\n",
       "AX/JJ4WTpQiUX+cKQn2gbNma7l0faQlB7z8X0m8JlcvAPrmycwPQyL5OqDUGuCIVtcIoPSNUKjHD\n",
       "Sb9IHwvc4HrLH73jxYJG8K+FfEga8L7UyQhoaSfOivWXS6ukSOgW/rOgh5vykpYYupPDjpgpgCOG\n",
       "agSiUmVbnaplaOdtJoeYWUoM97tYSdlnAyOS224PUkKmffixtviaE0Hx0AerJCcZNmEBTIsc5kz9\n",
       "c7NyEbxKWP+V9Fq3O26Y0XJ/Xqk8LNbT//NUtsdCwWzBRX6rDUnuktpWg1XoDawhNMXyd8L8x5pu\n",
       "bIvNqADyM7DWRR7nTh9bAU5y8gOTAcHN5n+UfGLA/ilQZCaxDfeXEPrL9CD/higQuTT3XT0U+mVA\n",
       "7CF5KLcjd/SP6V0K9TQVm3jWnRmV4xrCsaCS0B+NLK1zJEbxc+P5Y93f0OM8MOrNMrrJZLfkwDm/\n",
       "qIVca0933D8D8MUpax/8ek8n94LMMjOtLi+qGkzoP4RJsxc/LZ9hs6oTP5/lmxcCqqluXOZDyP4A\n",
       "eFfO7rd5wit5pP4emYjNL95vC5wbcNBxLp+z+9rWPHLHicWxj7XAfhduYs5QyVpkZ1Me9BSGu4i6\n",
       "qMljLML68WK0ULmt2iMYE+7V8UI+Reg3gBCW5EBEt5mIxFtljXQAjz9iedQrvlMDtpnanUdBTIDe\n",
       "wrKG0N+ukk1cuPr/SDb/NtVZujGJd+HDok0rUyw5QnDD5YwCpAFRdztFzw424YocXceKtKfGmGTK\n",
       "qd6WZ9xjX8+TpVi4RTOMAVnIg6K/KvP0nCJubOK2DghovGkSdiTmTcKrvH9VFV4OGCFzEmV2Dsty\n",
       "RSdtqvbgj3lQdf7JO71Ldm0bxu2C68uwtzvSzY3PUI78uhQNZxK2ytojm1bBWS5vO11vEbyF8yuJ\n",
       "2w22cSF2UUt0gJow6uyHprf3w2z5tqEHHMtthx5O45Bm891vePlG4J5ou4d4VZJrXonlKduNW2C8\n",
       "Jycvst3ijz4Y/Jb6/INii9zHf+ql/tAKnrqR1t9OSkAnwZRDmEdZnAihp4ss6lKQcqv13psDc3k4\n",
       "FVYZAogsnnW3Pt3iEYchq8jqXCtfHC/PB9Ibe0lSfAcsnbeeGVgCU1o7WWetfPOgABGOKn3qAAAe\n",
       "wD4hAAACLkGaJGxBf/7aplgAoJhSaAC6xTzyzs41a/zMfqXROoDTUR6zmCqvxzluf9Ea8mFNvwHA\n",
       "E7WrShit2r0ZVtdFi+WgMTCTdeRTvbXQCX4FsqTcWJf42FNeYtgA6P0QCMXnpySM/hpWxFfE10mO\n",
       "BfiYtpEo+2800FbEyYhXOFXmeyiM5+s9MTtZNcOqdkwccRcExrMZFbsG+N1p4hdwhi59p83N69GJ\n",
       "pCqA9TMgKAZg8DMyPbb3qcoXYObMJ3hp6i32CX81JwzdMzvczYyG7iTcUBu1vkY397gCJGHPq1Fk\n",
       "PYGUdKgdC6ivFxOwrR3f/rrGytqzC1CXApHAAIqjvm34TwFw0UY4s6Ib4RYz4Y7aqd1q51CmR+yg\n",
       "j/h9e4qZ3T7nSgzMoe3KjjNKENJFdR42E6p43w3yr+XqnUsE5p+zQ0Paa9AqYiVkiNZxgdoYBhhT\n",
       "qbqdn9tMYH0S+N/vx/1eVzhwuCJ1Fxsdw7YbMfwby7sxkxeB82RlWz8WIZ+blX8sVF4O53CLznsY\n",
       "3ELG+ziTDyIWDadd5UwmhjwBy4OC1X3RstN/ElLheeKERy2onh2V0JLY5A/FkwGurI94J+9npq5Y\n",
       "aTld4OY1J/wm3Yj1AIp4qUGLW6DfSoECqIVisUEqHom+6Hb23mpdHcRjxL7QFwpKBDtPOwbI2b4q\n",
       "hWpm+ScpekP1j8Vj8qqX4KEeK0F4rH4v9twjEiRUdIxKtUzwcZt69kxGcCUeRreDgoUBFwAAAQFB\n",
       "nkJ4gt8AAEUUgnOwIcjF2d7MY+IAIVAGjCLGHHzCSq7hPUJh6FU2sP4JVzlPYEGwu7AONOGjlEF9\n",
       "D7JqShHrXEYyDJuDYOESgPnvHOmNZwgBLCWqrlFs3+lMlzComy8D/wFqFqPfbaDeqXRwhxHaQBJE\n",
       "9xy2slmNQsHXzoVredsnKvmFeus0c9hQWJBgSGRGsV4lVcFAwFoDBCTsDPrWDCn6JbcNat5CM3PY\n",
       "Ud04ywnxAaAbAgPiP/p4zOE7+cA/bkPiaa5uMjJWNLB2QxY+CsuGqeO7r2dZVl5okPOWfkg6p/lE\n",
       "3Dhwt0VmwrjIriB7yqS0SnOlqj2ELwu3IiBSQQAAAKoBnmF0QV8AAGuqWrwgeGXi6HJyIAEOkvFW\n",
       "U1THjaSMQ14kG5cDQJP1Iw1CAtmHFR3cVT9Ouji1wjyvBj71+OZPuwgBZR3FzLjfC7uYFKFSyVd5\n",
       "Y9qxg1gXqvCU/uOCVrbcpUuF5OyVxQ8mOdp2r4hVqBulBM44o+olwc19RouK27ZFI7i/ktOHOPdV\n",
       "p2ggEKtSbfQljzASRgvnitAZP2z/1wuNHTrADgOBgQAAAQIBnmNqQV8AAGgvWHQYo7VkTgAOvki8\n",
       "t/8M+xpVud6NwrBT3ZqgxSB2CKmXnhU91YY+eQ0b7XAZPcSh9/tFACGQ7yvXu1TOKiqVsI1KPjz5\n",
       "mI40MSJFXMnq+4J9rkvXWBXGtTHBBGChwt9BlzxZEZ6h7gJbXA1R3dMYw/y9yIwVVYjSRUC5ToJH\n",
       "u+ZXZHJmqtjAyTHZWl6K4W9XqnMYm/V76rFm56XH71fz5NuiLEg6emPanaUE2H/2HLZ8kncAPHvO\n",
       "zBgLss0w4qvNMLmMpAPXdtIlNHvlbJCmeWpDLBW/lwajlyPVi5splxJFvPs+ji4mD/qxFkr7hMaU\n",
       "/j/L+zAAFTEAAAF6QZpoSahBaJlMCC3//talUACcJogrgLeSaCACFDwbx28vpi1mKkUKjtjqIjnV\n",
       "Czwm1W45mZBD6qF7L7iUrIZR6Dmia6YMX+fy5M0O4Eagr0sSHsO0mxZZqOTCLdtM1fT6Ky7hAAWP\n",
       "96/B2CG7rdLh4xQiTke0nawnL9EI/VfZvPk9GlsmbYgzEf9MgbenVj2p3hEchYwH+jZf3mHDVoLW\n",
       "N6ro7uVDITN9GC505o6eQ6xFXAy1J1nGpnMByRJwF0qobpt1XIuexlLw74SsEliNqEap0z/QiEVM\n",
       "3ipy3A5eoIH0LHfDG0zsTePTsPcxsqqBrybUFxwGG4qUEOFMSZ1SeqgQbVT2d9TX6aRQJ5PcYg50\n",
       "Rt7NuDLUwHjyeTA1J8piqZ+6UNSIpqphFJYjEpfsdHrx6Y71NcVdHqaEiXB1sSdwQh342SKUYADx\n",
       "YL34LZ6XUe+9Ay0PdPLbeaJfCtndPzyVkwCliE9Dsi1daX9zhofP1IJk+7ft2Y75AAABD0GehkUR\n",
       "LBb/AABCXaFJnMkEp1YwAL3ZYbzLqQAgvSjWkZLrjcr6vtWfJppwaxmev0Kd0qQNzVx8cKt0CAj+\n",
       "JhaOtBWNZjb9bRObAABXlK1sAG07dK6FWFD8CoUFaTqmGEClmKXA125Riwvols69teYYXFZRsRxi\n",
       "47dNOotZkACI2AKBvZXjNIzoLJgFMD1//cyXC9XEV6bGoNfWK8FjZnEqB+2lykd0DtHH8+e1CzJm\n",
       "KeJMW7nLf+8wPu21ARAMjQ5ZS4FmXlkvlwYdPB6HM7WmMBrMdNXL2Gf2QUe5Up42BhBtxTQMeAEf\n",
       "nqoFkOZgdvoJKfWM4xvTvg/m5vUN+vypPiVXK3WZrpPKtYAAP8EAAADoAZ6ldEFfAABpfZABfam2\n",
       "fHdwsPMzc2L0WT6e8DWksIADpibjm1uflU6aZhR470q0gvkLvL3oSAT8S91x+z6qBPkCMNxq7mC2\n",
       "nE+U+ye4WRr8C0rjYMx/uvTB75ZQBUUtdT7s2pZRnInDbGt/oj1XgM2VLeUpL1x8HUUpL8T1xigU\n",
       "wQTR7+l9KSo/2Trwm4FueZ+7jASdPi9fB4beJhHrNQ4w2BYq7iVCyjxG8nHIc9wnEcxdJeBSAEGn\n",
       "rN+fiyHr0F3gksPVU+h+ieTsUI/bUHd7/Vpq1LI/0YXayoJT4JQZB8hLAAD0gQAAAO4BnqdqQV8A\n",
       "AGgw9Pv4wb5bHb2qyiADari3/+CxjkCVHAbizdEk3nJnlXZ4FEja8Jkv4VY7j+oGeyyt93198Ow5\n",
       "ocYSMSx/Da22WjiOqsr4+Xh9soAQxixulDK8CMln+fzoa2OKglN2UK8KzSyeF8uZam1vnv7SPJtw\n",
       "oV0I5Jv10qMhee+hyIaMXrkB7J2nOcp4ukWpHELpMEjLWe3dk3p7n8wKllJ8qOGy3LyWhibGXSqp\n",
       "1k/NEYmEteNgdVki7+aZGsjvDsnpqzT7O/1Fnq8nlfGbOdftRjEqL7/RDXQHAHpdV5ttsU1WAJZo\n",
       "v8bwAAAA9UGaqUmoQWyZTAgr//7WpVAAnCel4ckfoADs3Qd9G/Yi3u0icawSJiTjnj6071Mrqoir\n",
       "WjOnxGynZyUfl6KQc8XHjU1WQW92PRngjbt2nwwIUvYhRUHxOAAZuor8bHS2yylosPOIa4loOhRh\n",
       "MdwstffHgWtN+RbWzh4GTuLBLRTJQeJbBExpXY+GnXrbLkaSXsOqaCZyMqQEbmFbPWKbdJxZCI2u\n",
       "vt0Py+DaCnQm4rP6dg0Taon6Nf8ZskCExVbxHPcqN6sHjXeneIT+QFUJUFLZrG79ESvVkOAIbEUv\n",
       "1QW+MXDDha3QFXGyBaf5s7jJC1kQ0yJgAAADp21vb3YAAABsbXZoZAAAAAAAAAAAAAAAAAAAA+gA\n",
       "ACcQAAEAAAEAAAAAAAAAAAAAAAABAAAAAAAAAAAAAAAAAAAAAQAAAAAAAAAAAAAAAAAAQAAAAAAA\n",
       "AAAAAAAAAAAAAAAAAAAAAAAAAAAAAAAAAAIAAALRdHJhawAAAFx0a2hkAAAAAwAAAAAAAAAAAAAA\n",
       "AQAAAAAAACcQAAAAAAAAAAAAAAAAAAAAAAABAAAAAAAAAAAAAAAAAAAAAQAAAAAAAAAAAAAAAAAA\n",
       "QAAAAAJAAAACQAAAAAAAJGVkdHMAAAAcZWxzdAAAAAAAAAABAAAnEAAAgAAAAQAAAAACSW1kaWEA\n",
       "AAAgbWRoZAAAAAAAAAAAAAAAAAAAQAAAAoAAVcQAAAAAAC1oZGxyAAAAAAAAAAB2aWRlAAAAAAAA\n",
       "AAAAAAAAVmlkZW9IYW5kbGVyAAAAAfRtaW5mAAAAFHZtaGQAAAABAAAAAAAAAAAAAAAkZGluZgAA\n",
       "ABxkcmVmAAAAAAAAAAEAAAAMdXJsIAAAAAEAAAG0c3RibAAAALRzdHNkAAAAAAAAAAEAAACkYXZj\n",
       "MQAAAAAAAAABAAAAAAAAAAAAAAAAAAAAAAJAAkAASAAAAEgAAAAAAAAAAQAAAAAAAAAAAAAAAAAA\n",
       "AAAAAAAAAAAAAAAAAAAAAAAAABj//wAAADJhdmNDAWQAFv/hABlnZAAWrNlAkBJoQAAAAwBAAAAD\n",
       "AIPFi2WAAQAGaOvjyyLAAAAAHHV1aWRraEDyXyRPxbo5pRvPAyPzAAAAAAAAABhzdHRzAAAAAAAA\n",
       "AAEAAAAKAABAAAAAABRzdHNzAAAAAAAAAAEAAAABAAAAYGN0dHMAAAAAAAAACgAAAAEAAIAAAAAA\n",
       "AQABQAAAAAABAACAAAAAAAEAAAAAAAAAAQAAQAAAAAABAAFAAAAAAAEAAIAAAAAAAQAAAAAAAAAB\n",
       "AABAAAAAAAEAAIAAAAAAHHN0c2MAAAAAAAAAAQAAAAEAAAAKAAAAAQAAADxzdHN6AAAAAAAAAAAA\n",
       "AAAKAAAK+QAAAjIAAAEFAAAArgAAAQYAAAF+AAABEwAAAOwAAADyAAAA+QAAABRzdGNvAAAAAAAA\n",
       "AAEAAAAsAAAAYnVkdGEAAABabWV0YQAAAAAAAAAhaGRscgAAAAAAAAAAbWRpcmFwcGwAAAAAAAAA\n",
       "AAAAAAAtaWxzdAAAACWpdG9vAAAAHWRhdGEAAAABAAAAAExhdmY1OC4yOS4xMDA=\n",
       "\">\n",
       "  Your browser does not support the video tag.\n",
       "</video>"
      ],
      "text/plain": [
       "<IPython.core.display.HTML object>"
      ]
     },
     "execution_count": 62,
     "metadata": {},
     "output_type": "execute_result"
    }
   ],
   "source": [
    "HTML(simulacion.to_html5_video())"
   ]
  },
  {
   "cell_type": "code",
   "execution_count": null,
   "id": "d4bd3b7c",
   "metadata": {},
   "outputs": [],
   "source": []
  },
  {
   "cell_type": "markdown",
   "id": "a9952600",
   "metadata": {},
   "source": [
    "### 5.2 **Agentes** \n",
    "Use la clase agente para modelar una epidemia Zombie como se describe en [Zombie Infection Simulator](http://asymptote.wordpress.com/2008/01/13/asymptotes-zombie-infection-simulator/) (Esta incluye humanos que pelean  y humanos en pánico)"
   ]
  },
  {
   "cell_type": "code",
   "execution_count": null,
   "id": "f75fea33",
   "metadata": {},
   "outputs": [],
   "source": []
  },
  {
   "cell_type": "code",
   "execution_count": null,
   "id": "99e6c81e",
   "metadata": {},
   "outputs": [],
   "source": []
  },
  {
   "cell_type": "code",
   "execution_count": null,
   "id": "8c4d186e",
   "metadata": {},
   "outputs": [],
   "source": []
  },
  {
   "cell_type": "code",
   "execution_count": null,
   "id": "26a45527",
   "metadata": {},
   "outputs": [],
   "source": []
  },
  {
   "cell_type": "code",
   "execution_count": null,
   "id": "fef0f430",
   "metadata": {},
   "outputs": [],
   "source": []
  },
  {
   "cell_type": "markdown",
   "id": "00fbb96c",
   "metadata": {},
   "source": [
    "7: Zombies have too many natural predators. Humans are only at the top of the food chain because of our intelligence. Zombies don't have that advantage, so any animal could easily kill a zombie (stray dogs, bears, ect.) Plus, insects.\n",
    "\n",
    "6: They can't take the heat The natural decaying process, exasperated by the daily heat, would cause zombies to basically explode from gas build up. Also, zombies would dry up in dry heat like \"slim jims\".\n",
    "\n",
    "5: They can't take the cold The water in the zombie's bodies would freeze if temps outside reached below the freezing mark. This would make the zombies immobile.\n",
    "\n",
    "4: Biting is a terrible way to spread disease Infectious diseases which spread via biting have a terrible track record. Look at how rare rabies is. It's to obvious a way to spread disease, and the authorities would be able to quarantine, or execute, the infected quickly.\n",
    "\n",
    "3: They can't heal from day to day damage Zombies aren't alive, so their body won't heal. Basic wounds would accumulate and destroy the body quite quickly.\n",
    "\n",
    "2: The landscape is full of zombie proof barriers If the zombies can only travel on foot it'll be hard to see widespread, rapid spreading of the disease. Zombies would either walk off cliffs or similar large drops, or would be corralled into small enough areas by these landmarks to allow mass killings of the infected.\n",
    "\n",
    "1: Weapons and the people who use them Lot of armed people in the States. 14 million people with a hunting license alone. Millions more that have weapons without licenses. The military is suited to take down very large numbers of zombies without getting close enough to get bitten. Zombies have to come in contact with a person to spread their disease, which makes them susceptible to being killed every time they want to claim a new victim."
   ]
  },
  {
   "cell_type": "code",
   "execution_count": null,
   "id": "fab8824c",
   "metadata": {},
   "outputs": [],
   "source": []
  },
  {
   "cell_type": "markdown",
   "id": "64d80cb9",
   "metadata": {},
   "source": [
    "### 6. Preguntas Extras"
   ]
  },
  {
   "cell_type": "markdown",
   "id": "92ed2a7d",
   "metadata": {},
   "source": [
    "#### 6.1 ¿Cómo modelarías una infección de hombres lobos?\n",
    "    - Tip: Necesitas llevar el paso del tiempo"
   ]
  },
  {
   "cell_type": "code",
   "execution_count": null,
   "id": "d5ab23fb",
   "metadata": {},
   "outputs": [],
   "source": []
  },
  {
   "cell_type": "markdown",
   "id": "affa5ff3",
   "metadata": {},
   "source": [
    "#### 6.2 Implementa el agente hombre-lobo"
   ]
  },
  {
   "cell_type": "code",
   "execution_count": null,
   "id": "07d2104c",
   "metadata": {},
   "outputs": [],
   "source": []
  },
  {
   "cell_type": "markdown",
   "id": "a9b19936",
   "metadata": {},
   "source": [
    "#### 6.3 Discute el ejemplo de [z0mb1e](http://www.elliemary.com/agent-based-zombie-model.html), es una de las simulaciones más completas. ¿Qué hay de diferente a la tuya?"
   ]
  },
  {
   "cell_type": "code",
   "execution_count": null,
   "id": "59e73f1f",
   "metadata": {},
   "outputs": [],
   "source": []
  },
  {
   "cell_type": "markdown",
   "id": "d3f2edab",
   "metadata": {},
   "source": [
    "#### 6.4 Desarrolla el agente descrito en ese artículo.\n"
   ]
  },
  {
   "cell_type": "code",
   "execution_count": null,
   "id": "fbe3f287",
   "metadata": {},
   "outputs": [],
   "source": []
  },
  {
   "cell_type": "markdown",
   "id": "792424f3",
   "metadata": {},
   "source": [
    "#### 6.5 Desarrolla una simulación de dicho artículo."
   ]
  },
  {
   "cell_type": "code",
   "execution_count": null,
   "id": "cb93225a",
   "metadata": {},
   "outputs": [],
   "source": []
  },
  {
   "cell_type": "code",
   "execution_count": null,
   "id": "5b0dec0d",
   "metadata": {},
   "outputs": [],
   "source": []
  },
  {
   "cell_type": "code",
   "execution_count": null,
   "id": "60ea894f",
   "metadata": {},
   "outputs": [],
   "source": []
  }
 ],
 "metadata": {
  "kernelspec": {
   "display_name": "Python 3 (ipykernel)",
   "language": "python",
   "name": "python3"
  },
  "language_info": {
   "codemirror_mode": {
    "name": "ipython",
    "version": 3
   },
   "file_extension": ".py",
   "mimetype": "text/x-python",
   "name": "python",
   "nbconvert_exporter": "python",
   "pygments_lexer": "ipython3",
   "version": "3.9.6"
  }
 },
 "nbformat": 4,
 "nbformat_minor": 5
}
