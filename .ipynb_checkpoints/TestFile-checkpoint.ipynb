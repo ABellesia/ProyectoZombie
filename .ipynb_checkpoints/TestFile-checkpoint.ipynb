{
 "cells": [
  {
   "cell_type": "markdown",
   "id": "82e26a79",
   "metadata": {},
   "source": [
    "### 0. Fuentes del profesor"
   ]
  },
  {
   "cell_type": "markdown",
   "id": "ffffeb4f",
   "metadata": {},
   "source": [
    "https://loe.org/images/content/091023/Zombie%20Publication.pdf - Paper de \"When Zombies Attack\" cuyo modelo debemos reproducir\n",
    "\n",
    "\n",
    "http://thetortoiseslens.blogspot.com/2010/03/agent-based-computational-model-of.html - Modelacion de Agentes en Punto 5.1"
   ]
  },
  {
   "cell_type": "markdown",
   "id": "87e96e02",
   "metadata": {},
   "source": [
    "### 1. Reproduccion del Modelo\n",
    "En el artículo _WHEN ZOMBIES ATTACK!: MATHEMATICAL MODELLING OF AN OUTBREAK OF ZOMBIE INFECTION_ se muestra el modelado básico del modelo **SIR** para una epidemia. Reproduzca los modelos ahí presentados. \n"
   ]
  },
  {
   "cell_type": "markdown",
   "id": "cd5962ae",
   "metadata": {},
   "source": [
    "##### Fuentes Adicionales: \n",
    "Teoricamente: https://complejidad.iiec.unam.mx/cursotaller2020/casos/modeloSIR.php\n",
    "\n",
    "Implementacion en Python: https://blog.devgenius.io/pandemic-modeling-with-python-the-sir-model-16b5f8348e85\n",
    "\n",
    "https://python.quantecon.org/sir_model.html\n",
    "\n",
    "https://towardsdatascience.com/infectious-disease-modelling-part-i-understanding-sir-28d60e29fdfc?gi=7d6da078a7f7\n",
    "\n",
    "https://www.cracked.com/article_18683_7-scientific-reasons-zombie-outbreak-would-fail-quickly.html"
   ]
  },
  {
   "cell_type": "code",
   "execution_count": 1,
   "id": "6cd58214",
   "metadata": {},
   "outputs": [],
   "source": [
    "%matplotlib inline\n",
    "import matplotlib.pyplot as plt\n",
    "plt.rcParams[\"figure.figsize\"] = (11, 5)  #set default figure size\n",
    "import numpy as np\n",
    "from numpy import exp"
   ]
  },
  {
   "cell_type": "code",
   "execution_count": null,
   "id": "a19548ea",
   "metadata": {},
   "outputs": [],
   "source": [
    "N = 1000\n",
    "beta = 0.5  #Infeccion por encuentro\n",
    "alfa = 0.7 #Tasa de muerte zombie (i.e., que tan probable es matar a un zombie en un encuentro con el)\n",
    "zeta = 0.2 #que tan probable es que alguien que muere de S reviva como zombie\n",
    "#asumimos que los Z no pueden volver a revivir como Z\n",
    "rho = 1.0 # Cuanto tarda un infectado en volverse zombie\n",
    "\n",
    "#tasas de cuarentena\n",
    "kappa = 0 # de infectados\n",
    "sigma = 0 # de zombies\n",
    "\n",
    "#tasa de intento de escape\n",
    "gamma = 0\n",
    "\n",
    "#tasa de curacion\n",
    "c = 0\n",
    "\n",
    "delta = 0 # la tasa de muerte natural/por causas no directamente atribuibles a encuentro con zombie\n",
    "pi = 0 #Tasa de nacimiento\n",
    "\n",
    "S0, I0, R0 = 999, 1, 0  # Condiciones Iniciales: 1 infectado, resto suceptible"
   ]
  },
  {
   "cell_type": "code",
   "execution_count": 3,
   "id": "b3757095",
   "metadata": {},
   "outputs": [],
   "source": [
    "#El caso 1 es el caso basico\n",
    "\n",
    "class ODEs:\n",
    "    \n",
    "    def __init__(self, beta, alfa, zeta, rho=0, kappa=0, sigma=0, gamma=0, c=0, delta=0, pi=0):\n",
    "        self.beta = beta\n",
    "        self.alfa = alfa\n",
    "        self.zeta = zeta\n",
    "        self.rho = rho\n",
    "        self.gamma = gamma\n",
    "        \n",
    "        self.kappa = kappa\n",
    "        self.sigma = gamma\n",
    "        \n",
    "        self.c = c\n",
    "\n",
    "        self.delta = delta\n",
    "        self.pi = pi  \n",
    "    \n",
    "    def ode_caso_basico(self, S, Z, R):\n",
    "        dSdt = self.pi - (self.beta * S * Z) - (self.delta * S)\n",
    "        dZdt = (self.beta * S * Z) + (self.zeta * R) - (self.alfa*S*Z)\n",
    "        dRdt = (self.delta * S) + (self.alfa * S * Z) - (self.zeta*R)\n",
    "        return dSdt, dZdt, dRdt\n",
    "    \n",
    "    def ode_caso_latente(self, S, Z, I, R):\n",
    "        dSdt = self.pi - (self.beta * S * Z) - (self.delta * S)\n",
    "        dIdt = (self.beta * S * Z) - (self.rho*I) - (self.delta*I)\n",
    "        dZdt = (self.rho*I) + (self.zeta * R) - (self.alfa*S*Z)\n",
    "        dRdt = (self.delta * S) + (self.delta * I) + (self.alfa * S * Z) - (self.zeta*R)\n",
    "        return dSdt, dIdt, dZdt, dRdt\n",
    "    \n",
    "    def ode_caso_cuarentena(self, S, Z, I, R):\n",
    "        dSdt = self.pi - (self.beta * S * Z) - (self.delta * S)\n",
    "        dIdt = (self.beta * S * Z) - (self.rho*I) - (self.delta*I) - (self.kappa * I)\n",
    "        dZdt = (self.rho*I) + (self.zeta * R) - (self.alfa*S*Z) - (self.sigma*Z)\n",
    "        dRdt = (self.delta * S) + (self.delta * I) + (self.alfa * S * Z) - (self.zeta*R) + (self.gamma * Q)\n",
    "        \n",
    "        dQdt = (self.kappa * I) + (self.sigma * Z)  - (self.gamma*Q)\n",
    "        \n",
    "        return dSdt, dIdt, dZdt, dRdt, dQdt\n",
    "\n",
    "    def ode_caso_tratamiento(self, S, Z, I, R):\n",
    "        dSdt = self.pi - (self.beta * S * Z) - (self.delta * S) + (self.c * Z)\n",
    "        dIdt = (self.beta * S * Z) - (self.rho*I) - (self.delta*I)\n",
    "        dZdt = (self.rho*I) + (self.zeta * R) - (self.alfa*S*Z) - (self.c * Z)\n",
    "        dRdt = (self.delta * S) + (self.delta * I) + (self.alfa * S * Z) - (self.zeta*R)\n",
    "        \n",
    "        return dSdt, dIdt, dZdt, dRdt\n",
    "    \n",
    "    \n",
    "    def ode_ataques(self, Z, k, n):\n",
    "        zombies_erradicados = k*n*Z\n",
    "        return zombies_erradicados\n",
    "        \n",
    "        \n",
    "    def ode_colateral_de_ataques(self, S, I, collateral, n):\n",
    "        muertes_en_combate = collateral * n * (S+I)\n",
    "        return muertes_en_combate"
   ]
  },
  {
   "cell_type": "code",
   "execution_count": 45,
   "id": "9ab1c566",
   "metadata": {},
   "outputs": [
    {
     "name": "stdout",
     "output_type": "stream",
     "text": [
      "Humanos:  999\n",
      "Infectados:  10\n",
      "Zombies:  10\n",
      "Humanos:  -8911\n",
      "Infectados:  10000\n",
      "Zombies:  -20050.0\n"
     ]
    }
   ],
   "source": [
    "N = 1000\n",
    "beta = 1  #Infeccion por encuentro\n",
    "alfa = 0.2 #Tasa de muerte zombie (i.e., que tan probable es matar a un zombie en un encuentro con el)\n",
    "zeta = 0.8 #que tan probable es que alguien que muere de S reviva como zombie\n",
    "#asumimos que los Z no pueden volver a revivir como Z\n",
    "rho = 1.0 # Cuanto tarda un infectado en volverse zombie\n",
    "c = 8 #tasa de curacion\n",
    "\n",
    "escenario_optimista = ODEs(beta=beta, alfa=alfa, zeta=zeta, c=c)\n",
    "\n",
    "\n",
    "S=999\n",
    "I=10\n",
    "Z=10\n",
    "R=0\n",
    "\n",
    "cambio_en_S = 0\n",
    "cambio_en_I = 0\n",
    "cambio_en_Z = 0\n",
    "cambio_en_R = 0\n",
    "while(S >= 0 and Z >= 0):\n",
    "    S += cambio_en_S\n",
    "    I += cambio_en_I\n",
    "    Z += cambio_en_Z\n",
    "    R += cambio_en_R\n",
    "    print(\"Humanos: \", S)\n",
    "    print(\"Infectados: \", I)\n",
    "    print(\"Zombies: \", Z)\n",
    "    cambio_en_S, cambio_en_I, cambio_en_Z, cambio_en_R = escenario_optimista.ode_caso_tratamiento(S, Z, I, R)\n",
    "    \n",
    "    \n",
    "    \n",
    "    \n",
    "    "
   ]
  },
  {
   "cell_type": "code",
   "execution_count": 19,
   "id": "928068b3",
   "metadata": {},
   "outputs": [
    {
     "name": "stdout",
     "output_type": "stream",
     "text": [
      "-89.9\n"
     ]
    }
   ],
   "source": [
    "print(cambio_en_S)"
   ]
  },
  {
   "cell_type": "code",
   "execution_count": null,
   "id": "8e884a3a",
   "metadata": {},
   "outputs": [],
   "source": []
  },
  {
   "cell_type": "code",
   "execution_count": null,
   "id": "dd359376",
   "metadata": {},
   "outputs": [],
   "source": []
  },
  {
   "cell_type": "markdown",
   "id": "c192a61e",
   "metadata": {},
   "source": [
    "### 2. ¿Cuáles son las diferencias entre una epidemia normal (influenza, gripe, peste) y una epidemia zombie?\n"
   ]
  },
  {
   "cell_type": "code",
   "execution_count": null,
   "id": "7d5d0723",
   "metadata": {},
   "outputs": [],
   "source": []
  },
  {
   "cell_type": "code",
   "execution_count": null,
   "id": "3285ad42",
   "metadata": {},
   "outputs": [],
   "source": []
  },
  {
   "cell_type": "code",
   "execution_count": null,
   "id": "46f75586",
   "metadata": {},
   "outputs": [],
   "source": []
  },
  {
   "cell_type": "markdown",
   "id": "70290049",
   "metadata": {},
   "source": [
    "### 3.Criticas\n",
    "Se han hecho muchas críticas al artículo (e.g. _Zombie Apocalypse: An Epidemic Model_) indicando que hay errores y que las gráficas no corresponden ¿Es cierto? Si es afirmativa la respuesta, ¿Cuáles son esos errores?"
   ]
  },
  {
   "cell_type": "code",
   "execution_count": null,
   "id": "849d48ab",
   "metadata": {},
   "outputs": [],
   "source": []
  },
  {
   "cell_type": "markdown",
   "id": "280526ba",
   "metadata": {},
   "source": [
    "## Le faltaron algunos casos: \n",
    "\n",
    "### El caso del tratamiento con inmunidad\n",
    "\n",
    "### Las muertes colaterales cuando se ataca a los zombies\n",
    "\n",
    "###  "
   ]
  },
  {
   "cell_type": "code",
   "execution_count": null,
   "id": "4ba66c05",
   "metadata": {},
   "outputs": [],
   "source": []
  },
  {
   "cell_type": "code",
   "execution_count": null,
   "id": "94fec9b6",
   "metadata": {},
   "outputs": [],
   "source": []
  },
  {
   "cell_type": "markdown",
   "id": "1a02f925",
   "metadata": {},
   "source": [
    "### 4. Upgrades\n",
    "De la presentación _Zombie Apocalypse: An Epidemic Model_ se presentan varios `upgrades`, desarróllalos y coméntalos ¿Por qué son `upgrades`? ¿Qué mejoras proponen?\n"
   ]
  },
  {
   "cell_type": "code",
   "execution_count": null,
   "id": "812fa0a4",
   "metadata": {},
   "outputs": [],
   "source": []
  },
  {
   "cell_type": "code",
   "execution_count": null,
   "id": "8b772dec",
   "metadata": {},
   "outputs": [],
   "source": []
  },
  {
   "cell_type": "code",
   "execution_count": null,
   "id": "95b4fd7c",
   "metadata": {},
   "outputs": [],
   "source": []
  },
  {
   "cell_type": "markdown",
   "id": "0acb3aeb",
   "metadata": {},
   "source": [
    "### 5.1 **Agentes** \n",
    "Use la clase agente para modelar una epidemia Zombie como se describe en [Agent-Based Computational Model of Humanity’s Prospects for Post Zombie Outbreak Survival](http://thetortoiseslens.blogspot.mx/2010/03/agent-based-computational-model-of.html). Utiliza el diagrama del artículo _SimZombie: A Case-Study in Agent-Based Simulation Construction_ como guía."
   ]
  },
  {
   "cell_type": "code",
   "execution_count": 2,
   "id": "821be6cf",
   "metadata": {},
   "outputs": [],
   "source": [
    "import random\n",
    "import numpy as np\n",
    "import matplotlib.pyplot as plt\n",
    "from matplotlib import animation, rc\n",
    "from IPython.display import HTML"
   ]
  },
  {
   "cell_type": "code",
   "execution_count": 70,
   "id": "e8867d3c",
   "metadata": {},
   "outputs": [],
   "source": [
    "#aqui ponemos la clase de agente como en clase\n",
    "class Agente:\n",
    "    \"\"\" Agente general \"\"\"\n",
    "    def __init__(self, tipo,locacion):\n",
    "        self.tipo = tipo\n",
    "        self.locacion=locacion\n",
    "        self.siguiente_accion = None\n",
    "\n",
    "    def distancia(self, otro):\n",
    "        \"Calcula la distancia euclídea entre este agente y otro.\"\n",
    "        return np.linalg.norm(self.locacion - otro.locacion)  # Otra manera es usar np.sqrt(np.sum((a-b)**2))\n",
    "    \n",
    "    def vecinos(self, agentes):\n",
    "        pass\n",
    "    \n",
    "    def actuar(self, agentes):\n",
    "        self.locacion =  self.siguiente_accion\n",
    "        \n",
    "    def decidir(self, agentes):\n",
    "        self.siguiente_accion = np.array([random.uniform(0, 1), random.uniform(0, 1)]) # Toma una nueva posición al azar\n",
    "    \n",
    "    def actualizar(self, agentes):\n",
    "        self.decidir(agentes)\n",
    "        self.actuar(agentes)"
   ]
  },
  {
   "cell_type": "code",
   "execution_count": 71,
   "id": "b136bb9a",
   "metadata": {},
   "outputs": [],
   "source": [
    "#Aqui el mundo sin cambiar de la clase\n",
    "class Mundo:\n",
    "    def __init__(self, agentes, ancho=8, alto=8, steps = 10):\n",
    "        self.agentes = agentes\n",
    "        self.ancho = ancho\n",
    "        self.alto = alto\n",
    "        self.steps = steps\n",
    "        self.init_anim()\n",
    "        \n",
    "        print (\"Creado el mundo\")\n",
    "        \n",
    "    def init_anim(self):\n",
    "        self.fig = plt.figure(figsize=(self.ancho, self.alto))\n",
    "        self.ax = plt.axes(xlim=(0, 10), ylim=(0, 10))\n",
    "        plot_args = {'markersize' : 8, 'alpha' : 0.6}\n",
    "        self.puntos, = self.ax.plot([], [], 'o', **plot_args)\n",
    "       \n",
    "       \n",
    "    def dibujar(self, step):\n",
    "        x_values_0, y_values_0 = [], []\n",
    "        for agente in self.agentes:\n",
    "            x, y = agente.locacion\n",
    "            x_values_0.append(x)\n",
    "            y_values_0.append(y)\n",
    "\n",
    "        self.puntos.set_data(x_values_0, y_values_0)\n",
    "        \n",
    "        self.ax.set_title('Paso {}'.format(step))\n",
    "        \n",
    "        return self.puntos,\n",
    "       \n",
    "    def actualizar(self, step):   \n",
    "        self.dibujar(step) # Dibuja el mundo\n",
    "        \n",
    "        for agente in self.agentes:\n",
    "            agente.actualizar(self.agentes)\n",
    "    \n",
    "    def clean_screen(self):\n",
    "        self.puntos.set_data([], [])\n",
    "        return self.puntos,\n",
    "          \n",
    "    def simular(self):\n",
    "        anim = animation.FuncAnimation(self.fig, self.actualizar, init_func=self.clean_screen, frames=self.steps, interval=1000, blit=False)\n",
    "        return anim\n"
   ]
  },
  {
   "cell_type": "code",
   "execution_count": 73,
   "id": "f6d35b42",
   "metadata": {},
   "outputs": [],
   "source": [
    "class Zombie:\n",
    "    def __init__(self, delta=0.0000000000001, rango=0.00002):\n",
    "        Agente.__init__(self, tipo=\"Zombie\")\n",
    "        self.delta = delta # Tamaño de paso en x y y\n",
    "        self.rango = rango #rango de persepcion\n",
    "        self.locacion = np.array((5,5))\n",
    "        self.en_rango = False\n",
    "        self.siguiente_accion = None \n",
    "        \n",
    "    def actuar(self, agentes):\n",
    "        self.locacion = self.siguiente_accion\n",
    "        \n",
    "        \n",
    "    def decision(self, agentes):\n",
    "        \"\"\"Verdadero si un humano esta en rango\"\"\"\n",
    "        distancias = []\n",
    "        # Distancias es una lista de pares (distancia, agente)\n",
    "        for agente in agentes:\n",
    "            if self != agente:\n",
    "                distancia = self.distancia(agente)\n",
    "                distancias.append((distancia, agente))\n",
    "        # Ordenamos del más cercano al más lejano \n",
    "        distancias.sort(reverse = True)\n",
    "        #Checar si el humano más cercano esta en rango de persecucion\n",
    "        if distancias[0][0] <= self.rango:\n",
    "            self.en_rango = True\n",
    "            self.siguiente_accion = self.persecucion\n",
    "        else:\n",
    "            self.siguiente_accion = self.mov_random\n",
    "            \n",
    "    def persecucion(self, agentes):\n",
    "        distancias = []\n",
    "        # Distancias es una lista de pares (distancia, agente)\n",
    "        for agente in agentes:\n",
    "            if self != agente:\n",
    "                distancia = self.distancia(agente)\n",
    "                distancias.append((distancia, agente))\n",
    "        # Ordenamos del más cercano al más lejano \n",
    "        distancias.sort(reverse = True)\n",
    "        presa = distancias[0][1]\n",
    "        direccion_a_tomar = presa.locacion - self.locacion\n",
    "        return direccion_a_tomar*self.delta\n",
    "    \n",
    "    def mov_random(self):\n",
    "        return np.array([random.uniform(-1, 1), random.uniform(-1,1)])\n",
    "    \n",
    "    def actualizar(self, agentes):\n",
    "        self.decision(agentes)\n",
    "        self.actuar(agentes)"
   ]
  },
  {
   "cell_type": "code",
   "execution_count": 74,
   "id": "88e7217a",
   "metadata": {},
   "outputs": [
    {
     "name": "stdout",
     "output_type": "stream",
     "text": [
      "Creado el mundo\n"
     ]
    },
    {
     "data": {
      "image/png": "[encoded data removed]",
      "text/plain": [
       "<Figure size 576x576 with 1 Axes>"
      ]
     },
     "metadata": {
      "needs_background": "light"
     },
     "output_type": "display_data"
    }
   ],
   "source": [
    "num_agentes = 1\n",
    "\n",
    "agentes_simples = [Agente(tipo='Zombie', locacion=np.array((5,5))) for i in range(num_agentes)]\n",
    "\n",
    "\n",
    "sin_chiste = Mundo(agentes = agentes_simples, steps = 10)\n",
    "\n",
    "\n",
    "simulacion = sin_chiste.simular()"
   ]
  },
  {
   "cell_type": "code",
   "execution_count": 75,
   "id": "68e0c492",
   "metadata": {},
   "outputs": [
    {
     "data": {
      "text/html": [
       "<video width=\"576\" height=\"576\" controls autoplay loop>\n",
       "  <source type=\"video/mp4\" src=\"data:video/mp4;base64,AAAAHGZ0eXBNNFYgAAACAGlzb21pc28yYXZjMQAAAAhmcmVlAAASq21kYXQAAAKtBgX//6ncRem9\n",
       "5tlIt5Ys2CDZI+7veDI2NCAtIGNvcmUgMTU1IHIyOTE3IDBhODRkOTggLSBILjI2NC9NUEVHLTQg\n",
       "QVZDIGNvZGVjIC0gQ29weWxlZnQgMjAwMy0yMDE4IC0gaHR0cDovL3d3dy52aWRlb2xhbi5vcmcv\n",
       "eDI2NC5odG1sIC0gb3B0aW9uczogY2FiYWM9MSByZWY9MyBkZWJsb2NrPTE6MDowIGFuYWx5c2U9\n",
       "MHgzOjB4MTEzIG1lPWhleCBzdWJtZT03IHBzeT0xIHBzeV9yZD0xLjAwOjAuMDAgbWl4ZWRfcmVm\n",
       "PTEgbWVfcmFuZ2U9MTYgY2hyb21hX21lPTEgdHJlbGxpcz0xIDh4OGRjdD0xIGNxbT0wIGRlYWR6\n",
       "b25lPTIxLDExIGZhc3RfcHNraXA9MSBjaHJvbWFfcXBfb2Zmc2V0PS0yIHRocmVhZHM9NiBsb29r\n",
       "YWhlYWRfdGhyZWFkcz0xIHNsaWNlZF90aHJlYWRzPTAgbnI9MCBkZWNpbWF0ZT0xIGludGVybGFj\n",
       "ZWQ9MCBibHVyYXlfY29tcGF0PTAgY29uc3RyYWluZWRfaW50cmE9MCBiZnJhbWVzPTMgYl9weXJh\n",
       "bWlkPTIgYl9hZGFwdD0xIGJfYmlhcz0wIGRpcmVjdD0xIHdlaWdodGI9MSBvcGVuX2dvcD0wIHdl\n",
       "aWdodHA9MiBrZXlpbnQ9MjUwIGtleWludF9taW49MSBzY2VuZWN1dD00MCBpbnRyYV9yZWZyZXNo\n",
       "PTAgcmNfbG9va2FoZWFkPTQwIHJjPWNyZiBtYnRyZWU9MSBjcmY9MjMuMCBxY29tcD0wLjYwIHFw\n",
       "bWluPTAgcXBtYXg9NjkgcXBzdGVwPTQgaXBfcmF0aW89MS40MCBhcT0xOjEuMDAAgAAACEpliIQA\n",
       "F//+99S3zLLtU2+2C6j3op4mX0N1JQGblsTtOoAAAAMAAAMABBemSeywS24gSzAAAD1gBAnmTyCZ\n",
       "eYb8QA3MhKXZZLk8vCjzLRuvP0if4xybal05dn8tVsyszRhxcPS/sOE2VhBzITKflWiS9aSZZo7H\n",
       "pyUITTLBdJg5V82bOhDGrPyO98Ay0+zDG9ojshgXr5sfbkqr4BdiOKPKf9JY8H9N3FUZ3yhZDa1w\n",
       "dBv4bhQ5d5BowqRGx64EzaF6EsjZfqUGze8RVy8TkR8w6xRrfNNaQjZvhGJkDUJIlqKhLwtMaybD\n",
       "3Bu/bIwycRLjrKO3eMJLSQVbyU44X4b8rTzcmEdK7G+SI077pbLB3HbFxAOq5jRz/l+6RB/WDtwp\n",
       "gp2mO9rPsIMr1nX6m+36Cbr5Dx181vtWeqbKTFDZ/ogL/SX6anQPMLg7qSDyeqcSV17TkFwuBBT/\n",
       "nDiZ0RxciHU4U80fc4xHlfEYZJ6t4PpVmDIuB3Zzpst09lnlb7ECGx4+oRlDTc9is8VDtj5918cB\n",
       "vhjT1GXORGt5NEslD0HULsi+8JA48bsVp8MIVVIvV7YUB7unqeTvPuGw9LEAyscwklxbzBaNfqir\n",
       "+LkxIun4beKkwp/ZBxJUx5rWZGwk2KOSexgAV0M6wzZNGSPy7RVydg9qap2kE5wT0r8Ii3lDSVAH\n",
       "hMb/vWYT5kruQoPF4TheiAUSJACAEVeD184AAqwW4rBvPHtwSjpBsWvhVKFN0vQEEfC8kicEmpX5\n",
       "Q4Kp4Q39I1FpC+P4N/SpbepBrF6tCgf6Bvuwax1UO6OubtTuju4LuI2InqN6NqJHy3UKV4vHSTgz\n",
       "KKAJYxxGwBnJXQlNynKTF9mTekSn7DEMur4BH+N6aRHmS4yj4UvI7Dm/4rCa8jYBNf5RqXTR5fOy\n",
       "wLyB6J/hglq414AnBEBlII1raJmeMXM1+Lpcg+FoH0BYiET5gGZWyJS80euJ06lwd1fOi3FFfQYZ\n",
       "5sHFhW6dr32IksOaSh6cf8wM9Ln4Hbve9ybshVDE5Lr13H8Q33HqZgBBsr70xIuevPdr7I7fBuFd\n",
       "I440qpnLnRJZX3am6j+2AAADAWLAhz/ctdL2CDrh8UAaDqUkuvvN3aH4J74sYQFFKUXbukjP9e3G\n",
       "oiPBYN7rOIEOSWLRoiLDeJ1fsxiqtQLLlhFr8iAMCR1yn5MVDhfmqu2q84KxK8Dest2KBtnnkxy+\n",
       "TM5wX77bvX2vMVM8wupUBNR5OoTJqYiRkoNQYqmojHX/FgSgMXrP5IKT4h/EKeNAmbN57RN7hFdo\n",
       "ZzkUBNIyF28Tuad6+PId67nnwkT8qWVqNoGHwnWWN3NCs+kglTlXlCqIJtNzZFKFveC0eNl64JXH\n",
       "ZNVRWF3ZuEXMZcq275eVkyO7BSAJASKrAZNI8u1QkliI2AAAAwAkoPHuoL/ZHIrwDM9iLA84akH5\n",
       "GjOhiGDVe1Th/EfBR4FwsOphJKqPLlFJiGqIPDQdw+oWeAAdFQBXqBdk+vH3X+v1Bur3/GWuqE69\n",
       "2QnnRfaBw6cPBxh/UeUvFQ619AbYYNYx7xSb3BhSG4QnYKIa/JyHBxwBWqIWshbno5qoiJr4dV4n\n",
       "xZz31leiqPpXwNSQAUMd6Cno7AAAAwAAHZfXjNMUH4bLTlgrJ7AS+Tz+09qQF01/jDMZdx0CH0pL\n",
       "KXCVKHqhJjc0tHRg0Wr3qNoQt0Bb+pdUqDXBEJ7MEUHpGqFRjhpN+ib4VX+5wXrAZUOkSLHex+kC\n",
       "IjbufZV7FQWh6QRs62HI7FgfxSoQt2LPNudQ/rmHYugQMWef3FNQJRKTKtztUytHO2k0PMNWyXju\n",
       "Zl/4Ho6zkE1WdCKJ0I6UklpnqZ/KSU5epsGFA9qMa0aC/eoh9rWEqp3sAQsbemUAxRfkrviVaGRr\n",
       "BpTC09250gWQgPuhm5v/1cVaeONFDI6hSpVLLvEFjGfd760cvrEebM9pa+wBk0NDazXOLJxeJdKK\n",
       "LdR1IsatE+IduPceddFZ8DyyswTJGUD9KBIazcKVDnl+nJ0R46bttxb4GvYUTByxP1kzOgfXT7p5\n",
       "KlQHF31s5OT4V2ew5jqPX59qdoy/ASpUcS/5PN7dV/0j8XOPD55uoBqzGgnkR5TmqncIM4zqY/dG\n",
       "OpJPoBFjMF1aI2o3Hjc371+sJuJ89F3hVcvLqvm6QogkHwPSG7pjkbXkBt7FMuT+RxM7s1Z/P8sl\n",
       "SqHZhoyMk/TCUSRCoFN9CYyW3maT+HpmIzS/dZTK08bhoOJdP2f3tax9p5kypZd7+a0hL9yjpemx\n",
       "g3agxYLkvQukWIsMQffdPdccI/DbBu/iGeTugjWD0Flo6YBUy8K92t6ITuxkKzIRudS4qBvVRtXA\n",
       "NoFBE3KSgonPKkb2FZQ2ELPu1GT1N4V24TKGTdhDKJzIrgoHh+3nYWVBo+DfyxgWUUqi7na3Hhxu\n",
       "h7Ztmyy4g1zwQzJ86jTpRqknBaJa6qpVi4RQWsAVnGnPRcrMdNUUTaXR1DIHjLhJLdVCCw/q6q8H\n",
       "DBC5iTK7B2W5K5sRUqc29OgKDr/Ys3epbsveSQ0W9gk37SY7JpXVLQKfcKnZs9zemq/qHGolZRm9\n",
       "GYdH/4U+ZXE7Yba8VT7KixgjnTk//rgWDf/1IeehV2l9YUTcqXnyvgexZeOt7x8o3BPNWdJvCrMR\n",
       "g+sTuFEAeFjn8H/+pmxkRc4BP5P9pVxZnQK239L/Z+4/XUjk4w5R5TKFa6gKY1WNFdTuF86E+Zap\n",
       "9UzQjornt5nQCVcaLfvdlELtK47G5MydRvcdHrsZrnUnlLrJLfTtsZLiipktTopP0LRnujSVAACC\n",
       "Gj+AAAADAAYNAAAA3UGaJGxBf/7aplgAoJhSaAC6xTzyzs41a/zMfqXROoDTUR6zmCqvxzluf9Ea\n",
       "8mFNvwHAE7WrShit2r0ZVtdFi+WgMTCTdeRTvbXQCX4R5h5OWJf42FNeYtgAXXs/58qNceU0Y6gD\n",
       "jb7+Mhczwhd+9N10/rkSXbat8NBrZSZZsmJYsPVjWMojIp2hzHV7NgUe2+8eODoBgDzJ502H1CDz\n",
       "99Q3rGQy9497AbTAhx8NJumFcyI99hSmGFG26LPd9uE7yv0HjcFjGn63/Jy74EnjTRWXfMuFSS96\n",
       "IC17QQpAAAAA6EGeQniC3wAARRSEJXiACFVMqw3v+kWzYVX1A1pp56w1wFNRvDQdDrSVly9JxvRL\n",
       "liGTUotK0dEhz7NLuBLU3BEH88VJ7WWiypDv/Y/KO43WEBbyQwKL3MM5oJUAK3xPQGPewYozswcz\n",
       "7lJJdtffdI5pAHyQvls7ir53PYjdkH/3E+ldHFtKkOcLsUatIy+0A92VPthzBc/c9Pbat6aGgItD\n",
       "EZndOzY/jwuAbXF3wBVjkWwPwQCF7raP4YXgAe1/4MoTyVBrEEoNP1imdngLgRzmZMBvBoLc19Bd\n",
       "OfIDZkn/XeBOdeBVoqcAAADVAZ5hdEFfAABrqlq8IHhl4uhyciABDpLxVlNUx44hjENeJBuXA0CT\n",
       "9R2g4PZswn07uKp+nXRxa4R5Uj9L94ieljvQAkkOp8t52apgla4n/9s6Oa4j7XL+ZcLrzgaT0eXL\n",
       "mqhh8OODBt3Pt3OJwbXJxTbm6YNVuO3X4YTQdqcP1Chr2NWphJZ9eXpRdy+GM3kzQZC4+mDXT0SY\n",
       "5oyOK7whpn/8PN7J22q2mc08byWEjqZnBYHoO0PoZZ7dj2N4JY+JBkvB0MfLbYoY18wszUqYrae8\n",
       "h97AAAAAwwGeY2pBXwAAaC9YdBijtWROAA6+SLy3/wz7GlZ+bL0JDRKCrmGboF4jicCz2nFurDE3\n",
       "5MTixBrP5dU2n9ooAAADAWg5n/IVT4PmlKk1a55f91TXFUXitGFNelRtCw6XSZR0CN4QIHTD6kSJ\n",
       "IgcfXc9QbIoMLGAjsPMdXfSBkOAjknAd7efnYCVQDDJ1wTgIz4ZkKfAAO3vvdk9D9gM+x9eerKJQ\n",
       "MMWT2cl4L2l8q6pf5wn4/gIlAHxyr6PgAWJReF4rcQAAAL1BmmhJqEFomUwILf/+1qVQAJwmiCuA\n",
       "t5JoIAIUPBvHby+mLWYqRQqO2OoiOdULPCbVbjmZkEPqoXsvuJSshlHoOaJrpgxf5/LkzQ7gRqCv\n",
       "SxIew7SbFlmo5MH2CaaMmjwZ/1ggAAADAMTwR3WLNbZYR9u4bdmySUdW+mb+Az66EJjo/MUEpvoC\n",
       "gOb68dMXbgQjU0yGtlptCReEB+Mkt6SYErxsza+GbQ6f+lffnwFxgB2VyVNPlHM+KqOa7ukAAADP\n",
       "QZ6GRREsFv8AAEJdoUmcyQSnVjAAvdlhvMupACC9KNaRkuuNyvq+1Z8mmnBrGZ6/Qp3SpA3NXHxw\n",
       "q3QICP5FQilm8I1YfFQTieogAAADAxw4PQemkkUIt9XyVfIglYzY3xyZkVBMY0RrmWgohPmdrhfz\n",
       "s3fI4X/tlThHiPHobVbCNd6i41xWCMkmTuK+jMqSYdtoJhaIlXOwNnPEpJisPGne3tUtR4waPmUu\n",
       "2hL+v86OywJZ801+8M/A2JhxtxAk0U9T6XUOCyRucapkpxphAAAA4wGepXRBXwAAaX2QAX2ptnx3\n",
       "cJVhr/wvoBJNTYf3WCCABaOhHJJXPyqdNMwo8d6VaQXyF3l70JAJ+Je64/Z9VAnyBGG41dzBbTif\n",
       "KfZM9WYo5haVxsHSasduXeAsoAAABafG9kfgKqvuVX+XrmGJlJw5LGLLhmDDBjXTXBHk+bsIUWjC\n",
       "wdxcZz0vruD65KCmBBsyNIMc9FBfgjWI+L77MDDUUYdq+Bs+2iVDrJyXXwq5sqR5B56PrzE6LuXw\n",
       "xik4ToOWFKVNCN33SMjNOeYQAqT6S4W1aKFhu/HpTsv7tGUoO9ATAAAA2gGep2pBXwAAaDD0+/jB\n",
       "vlsdvarKIANquLf/4LGOQJUcBuLN0STecmeVdngUSNrwmS/hVjuP6gZ7LK33fX3z+a2PXJSNLH8N\n",
       "rbZaOI6qyvj5eH2ygAAAFqWPiDnC1Xja/4bsEEJBRMCdm5PJZo3RVprgGwrXgbiQW1Yq9Sf8w83J\n",
       "DoLxWb8tEGziYl5DC/dnMcTiV+Du4z8E8jfoNgZw/fZ/PStE25Ae7KkYPoc4EAXHOKhkAd79WCCQ\n",
       "0ShgxR9h+QAnytVDsAezb2RBooaUM9PZ8zQKdooq9cHsAAAA2kGaqUmoQWyZTAgr//7WpVAAnOUa\n",
       "QcAHNug77dwtvyzi7chKUmIWwJeOeQAJHfNCj6Hu++QV/z9rC6b+7y0gyfoKdo7D7FIcWP0HlagX\n",
       "8HrJSJ5iEP+LE4AAAAWHuJrn8c5//EPYT4Ti74INAUTyd05ATG3AvnvEr4QaYCxI1wV5FSj44a5z\n",
       "daJNQrmumeagLwiVRzQyvNFTF4dExq7vZBF8kDu6BXIYACcPvOmRVlD0iYQSgLivKDJKsh/DQibD\n",
       "XdpOe9zWCnjln1RNwFM9grzHGmabtyLpsTHwAAADp21vb3YAAABsbXZoZAAAAAAAAAAAAAAAAAAA\n",
       "A+gAACcQAAEAAAEAAAAAAAAAAAAAAAABAAAAAAAAAAAAAAAAAAAAAQAAAAAAAAAAAAAAAAAAQAAA\n",
       "AAAAAAAAAAAAAAAAAAAAAAAAAAAAAAAAAAAAAAIAAALRdHJhawAAAFx0a2hkAAAAAwAAAAAAAAAA\n",
       "AAAAAQAAAAAAACcQAAAAAAAAAAAAAAAAAAAAAAABAAAAAAAAAAAAAAAAAAAAAQAAAAAAAAAAAAAA\n",
       "AAAAQAAAAAJAAAACQAAAAAAAJGVkdHMAAAAcZWxzdAAAAAAAAAABAAAnEAAAgAAAAQAAAAACSW1k\n",
       "aWEAAAAgbWRoZAAAAAAAAAAAAAAAAAAAQAAAAoAAVcQAAAAAAC1oZGxyAAAAAAAAAAB2aWRlAAAA\n",
       "AAAAAAAAAAAAVmlkZW9IYW5kbGVyAAAAAfRtaW5mAAAAFHZtaGQAAAABAAAAAAAAAAAAAAAkZGlu\n",
       "ZgAAABxkcmVmAAAAAAAAAAEAAAAMdXJsIAAAAAEAAAG0c3RibAAAALRzdHNkAAAAAAAAAAEAAACk\n",
       "YXZjMQAAAAAAAAABAAAAAAAAAAAAAAAAAAAAAAJAAkAASAAAAEgAAAAAAAAAAQAAAAAAAAAAAAAA\n",
       "AAAAAAAAAAAAAAAAAAAAAAAAAAAAABj//wAAADJhdmNDAWQAFv/hABlnZAAWrNlAkBJoQAAAAwBA\n",
       "AAADAIPFi2WAAQAGaOvjyyLAAAAAHHV1aWRraEDyXyRPxbo5pRvPAyPzAAAAAAAAABhzdHRzAAAA\n",
       "AAAAAAEAAAAKAABAAAAAABRzdHNzAAAAAAAAAAEAAAABAAAAYGN0dHMAAAAAAAAACgAAAAEAAIAA\n",
       "AAAAAQABQAAAAAABAACAAAAAAAEAAAAAAAAAAQAAQAAAAAABAAFAAAAAAAEAAIAAAAAAAQAAAAAA\n",
       "AAABAABAAAAAAAEAAIAAAAAAHHN0c2MAAAAAAAAAAQAAAAEAAAAKAAAAAQAAADxzdHN6AAAAAAAA\n",
       "AAAAAAAKAAAK/wAAAOEAAADsAAAA2QAAAMcAAADBAAAA0wAAAOcAAADeAAAA3gAAABRzdGNvAAAA\n",
       "AAAAAAEAAAAsAAAAYnVkdGEAAABabWV0YQAAAAAAAAAhaGRscgAAAAAAAAAAbWRpcmFwcGwAAAAA\n",
       "AAAAAAAAAAAtaWxzdAAAACWpdG9vAAAAHWRhdGEAAAABAAAAAExhdmY1OC4yOS4xMDA=\n",
       "\">\n",
       "  Your browser does not support the video tag.\n",
       "</video>"
      ],
      "text/plain": [
       "<IPython.core.display.HTML object>"
      ]
     },
     "execution_count": 75,
     "metadata": {},
     "output_type": "execute_result"
    }
   ],
   "source": [
    "HTML(simulacion.to_html5_video())"
   ]
  },
  {
   "cell_type": "code",
   "execution_count": null,
   "id": "d4bd3b7c",
   "metadata": {},
   "outputs": [],
   "source": []
  },
  {
   "cell_type": "markdown",
   "id": "a9952600",
   "metadata": {},
   "source": [
    "### 5.2 **Agentes** \n",
    "Use la clase agente para modelar una epidemia Zombie como se describe en [Zombie Infection Simulator](http://asymptote.wordpress.com/2008/01/13/asymptotes-zombie-infection-simulator/) (Esta incluye humanos que pelean  y humanos en pánico)"
   ]
  },
  {
   "cell_type": "code",
   "execution_count": null,
   "id": "f75fea33",
   "metadata": {},
   "outputs": [],
   "source": []
  },
  {
   "cell_type": "code",
   "execution_count": null,
   "id": "99e6c81e",
   "metadata": {},
   "outputs": [],
   "source": []
  },
  {
   "cell_type": "code",
   "execution_count": null,
   "id": "8c4d186e",
   "metadata": {},
   "outputs": [],
   "source": []
  },
  {
   "cell_type": "code",
   "execution_count": null,
   "id": "26a45527",
   "metadata": {},
   "outputs": [],
   "source": []
  },
  {
   "cell_type": "code",
   "execution_count": null,
   "id": "fef0f430",
   "metadata": {},
   "outputs": [],
   "source": []
  },
  {
   "cell_type": "markdown",
   "id": "00fbb96c",
   "metadata": {},
   "source": [
    "7: Zombies have too many natural predators. Humans are only at the top of the food chain because of our intelligence. Zombies don't have that advantage, so any animal could easily kill a zombie (stray dogs, bears, ect.) Plus, insects.\n",
    "\n",
    "6: They can't take the heat The natural decaying process, exasperated by the daily heat, would cause zombies to basically explode from gas build up. Also, zombies would dry up in dry heat like \"slim jims\".\n",
    "\n",
    "5: They can't take the cold The water in the zombie's bodies would freeze if temps outside reached below the freezing mark. This would make the zombies immobile.\n",
    "\n",
    "4: Biting is a terrible way to spread disease Infectious diseases which spread via biting have a terrible track record. Look at how rare rabies is. It's to obvious a way to spread disease, and the authorities would be able to quarantine, or execute, the infected quickly.\n",
    "\n",
    "3: They can't heal from day to day damage Zombies aren't alive, so their body won't heal. Basic wounds would accumulate and destroy the body quite quickly.\n",
    "\n",
    "2: The landscape is full of zombie proof barriers If the zombies can only travel on foot it'll be hard to see widespread, rapid spreading of the disease. Zombies would either walk off cliffs or similar large drops, or would be corralled into small enough areas by these landmarks to allow mass killings of the infected.\n",
    "\n",
    "1: Weapons and the people who use them Lot of armed people in the States. 14 million people with a hunting license alone. Millions more that have weapons without licenses. The military is suited to take down very large numbers of zombies without getting close enough to get bitten. Zombies have to come in contact with a person to spread their disease, which makes them susceptible to being killed every time they want to claim a new victim."
   ]
  },
  {
   "cell_type": "code",
   "execution_count": null,
   "id": "fab8824c",
   "metadata": {},
   "outputs": [],
   "source": []
  },
  {
   "cell_type": "markdown",
   "id": "64d80cb9",
   "metadata": {},
   "source": [
    "### 6. Preguntas Extras"
   ]
  },
  {
   "cell_type": "markdown",
   "id": "92ed2a7d",
   "metadata": {},
   "source": [
    "#### 6.1 ¿Cómo modelarías una infección de hombres lobos?\n",
    "    - Tip: Necesitas llevar el paso del tiempo"
   ]
  },
  {
   "cell_type": "code",
   "execution_count": null,
   "id": "d5ab23fb",
   "metadata": {},
   "outputs": [],
   "source": []
  },
  {
   "cell_type": "markdown",
   "id": "affa5ff3",
   "metadata": {},
   "source": [
    "#### 6.2 Implementa el agente hombre-lobo"
   ]
  },
  {
   "cell_type": "code",
   "execution_count": null,
   "id": "07d2104c",
   "metadata": {},
   "outputs": [],
   "source": []
  },
  {
   "cell_type": "markdown",
   "id": "a9b19936",
   "metadata": {},
   "source": [
    "#### 6.3 Discute el ejemplo de [z0mb1e](http://www.elliemary.com/agent-based-zombie-model.html), es una de las simulaciones más completas. ¿Qué hay de diferente a la tuya?"
   ]
  },
  {
   "cell_type": "code",
   "execution_count": null,
   "id": "59e73f1f",
   "metadata": {},
   "outputs": [],
   "source": []
  },
  {
   "cell_type": "markdown",
   "id": "d3f2edab",
   "metadata": {},
   "source": [
    "#### 6.4 Desarrolla el agente descrito en ese artículo.\n"
   ]
  },
  {
   "cell_type": "code",
   "execution_count": null,
   "id": "fbe3f287",
   "metadata": {},
   "outputs": [],
   "source": []
  },
  {
   "cell_type": "markdown",
   "id": "792424f3",
   "metadata": {},
   "source": [
    "#### 6.5 Desarrolla una simulación de dicho artículo."
   ]
  },
  {
   "cell_type": "code",
   "execution_count": null,
   "id": "cb93225a",
   "metadata": {},
   "outputs": [],
   "source": []
  },
  {
   "cell_type": "code",
   "execution_count": null,
   "id": "5b0dec0d",
   "metadata": {},
   "outputs": [],
   "source": []
  },
  {
   "cell_type": "code",
   "execution_count": null,
   "id": "60ea894f",
   "metadata": {},
   "outputs": [],
   "source": []
  }
 ],
 "metadata": {
  "kernelspec": {
   "display_name": "Python 3 (ipykernel)",
   "language": "python",
   "name": "python3"
  },
  "language_info": {
   "codemirror_mode": {
    "name": "ipython",
    "version": 3
   },
   "file_extension": ".py",
   "mimetype": "text/x-python",
   "name": "python",
   "nbconvert_exporter": "python",
   "pygments_lexer": "ipython3",
   "version": "3.9.6"
  }
 },
 "nbformat": 4,
 "nbformat_minor": 5
}
