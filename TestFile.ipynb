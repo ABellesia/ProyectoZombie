{
 "cells": [
  {
   "cell_type": "markdown",
   "id": "82e26a79",
   "metadata": {},
   "source": [
    "### 0. Fuentes del profesor"
   ]
  },
  {
   "cell_type": "markdown",
   "id": "ffffeb4f",
   "metadata": {},
   "source": [
    "https://loe.org/images/content/091023/Zombie%20Publication.pdf - Paper de \"When Zombies Attack\" cuyo modelo debemos reproducir\n",
    "\n",
    "\n",
    "http://thetortoiseslens.blogspot.com/2010/03/agent-based-computational-model-of.html - Modelacion de Agentes en Punto 5.1"
   ]
  },
  {
   "cell_type": "markdown",
   "id": "87e96e02",
   "metadata": {},
   "source": [
    "### 1. Reproduccion del Modelo\n",
    "En el artículo _WHEN ZOMBIES ATTACK!: MATHEMATICAL MODELLING OF AN OUTBREAK OF ZOMBIE INFECTION_ se muestra el modelado básico del modelo **SIR** para una epidemia. Reproduzca los modelos ahí presentados. \n"
   ]
  },
  {
   "cell_type": "markdown",
   "id": "cd5962ae",
   "metadata": {},
   "source": [
    "##### Fuentes Adicionales: \n",
    "Teoricamente: https://complejidad.iiec.unam.mx/cursotaller2020/casos/modeloSIR.php\n",
    "\n",
    "Implementacion en Python: https://blog.devgenius.io/pandemic-modeling-with-python-the-sir-model-16b5f8348e85\n",
    "\n",
    "https://python.quantecon.org/sir_model.html\n",
    "\n",
    "https://towardsdatascience.com/infectious-disease-modelling-part-i-understanding-sir-28d60e29fdfc?gi=7d6da078a7f7\n",
    "\n",
    "https://www.cracked.com/article_18683_7-scientific-reasons-zombie-outbreak-would-fail-quickly.html"
   ]
  },
  {
   "cell_type": "code",
   "execution_count": 1,
   "id": "6cd58214",
   "metadata": {},
   "outputs": [],
   "source": [
    "%matplotlib inline\n",
    "import matplotlib.pyplot as plt\n",
    "plt.rcParams[\"figure.figsize\"] = (11, 5)  #set default figure size\n",
    "import numpy as np\n",
    "from numpy import exp"
   ]
  },
  {
   "cell_type": "code",
   "execution_count": null,
   "id": "a19548ea",
   "metadata": {},
   "outputs": [],
   "source": [
    "N = 1000\n",
    "beta = 0.5  #Infeccion por encuentro\n",
    "alfa = 0.7 #Tasa de muerte zombie (i.e., que tan probable es matar a un zombie en un encuentro con el)\n",
    "zeta = 0.2 #que tan probable es que alguien que muere de S reviva como zombie\n",
    "#asumimos que los Z no pueden volver a revivir como Z\n",
    "rho = 1.0 # Cuanto tarda un infectado en volverse zombie\n",
    "\n",
    "#tasas de cuarentena\n",
    "kappa = 0 # de infectados\n",
    "sigma = 0 # de zombies\n",
    "\n",
    "#tasa de intento de escape\n",
    "gamma = 0\n",
    "\n",
    "#tasa de curacion\n",
    "c = 0\n",
    "\n",
    "delta = 0 # la tasa de muerte natural/por causas no directamente atribuibles a encuentro con zombie\n",
    "pi = 0 #Tasa de nacimiento\n",
    "\n",
    "S0, I0, R0 = 999, 1, 0  # Condiciones Iniciales: 1 infectado, resto suceptible"
   ]
  },
  {
   "cell_type": "code",
   "execution_count": 3,
   "id": "b3757095",
   "metadata": {},
   "outputs": [],
   "source": [
    "#El caso 1 es el caso basico\n",
    "\n",
    "class ODEs:\n",
    "    \n",
    "    def __init__(self, beta, alfa, zeta, rho=0, kappa=0, sigma=0, gamma=0, c=0, delta=0, pi=0):\n",
    "        self.beta = beta\n",
    "        self.alfa = alfa\n",
    "        self.zeta = zeta\n",
    "        self.rho = rho\n",
    "        self.gamma = gamma\n",
    "        \n",
    "        self.kappa = kappa\n",
    "        self.sigma = gamma\n",
    "        \n",
    "        self.c = c\n",
    "\n",
    "        self.delta = delta\n",
    "        self.pi = pi  \n",
    "    \n",
    "    def ode_caso_basico(self, S, Z, R):\n",
    "        dSdt = self.pi - (self.beta * S * Z) - (self.delta * S)\n",
    "        dZdt = (self.beta * S * Z) + (self.zeta * R) - (self.alfa*S*Z)\n",
    "        dRdt = (self.delta * S) + (self.alfa * S * Z) - (self.zeta*R)\n",
    "        return dSdt, dZdt, dRdt\n",
    "    \n",
    "    def ode_caso_latente(self, S, Z, I, R):\n",
    "        dSdt = self.pi - (self.beta * S * Z) - (self.delta * S)\n",
    "        dIdt = (self.beta * S * Z) - (self.rho*I) - (self.delta*I)\n",
    "        dZdt = (self.rho*I) + (self.zeta * R) - (self.alfa*S*Z)\n",
    "        dRdt = (self.delta * S) + (self.delta * I) + (self.alfa * S * Z) - (self.zeta*R)\n",
    "        return dSdt, dIdt, dZdt, dRdt\n",
    "    \n",
    "    def ode_caso_cuarentena(self, S, Z, I, R):\n",
    "        dSdt = self.pi - (self.beta * S * Z) - (self.delta * S)\n",
    "        dIdt = (self.beta * S * Z) - (self.rho*I) - (self.delta*I) - (self.kappa * I)\n",
    "        dZdt = (self.rho*I) + (self.zeta * R) - (self.alfa*S*Z) - (self.sigma*Z)\n",
    "        dRdt = (self.delta * S) + (self.delta * I) + (self.alfa * S * Z) - (self.zeta*R) + (self.gamma * Q)\n",
    "        \n",
    "        dQdt = (self.kappa * I) + (self.sigma * Z)  - (self.gamma*Q)\n",
    "        \n",
    "        return dSdt, dIdt, dZdt, dRdt, dQdt\n",
    "\n",
    "    def ode_caso_tratamiento(self, S, Z, I, R):\n",
    "        dSdt = self.pi - (self.beta * S * Z) - (self.delta * S) + (self.c * Z)\n",
    "        dIdt = (self.beta * S * Z) - (self.rho*I) - (self.delta*I)\n",
    "        dZdt = (self.rho*I) + (self.zeta * R) - (self.alfa*S*Z) - (self.c * Z)\n",
    "        dRdt = (self.delta * S) + (self.delta * I) + (self.alfa * S * Z) - (self.zeta*R)\n",
    "        \n",
    "        return dSdt, dIdt, dZdt, dRdt\n",
    "    \n",
    "    \n",
    "    def ode_ataques(self, Z, k, n):\n",
    "        zombies_erradicados = k*n*Z\n",
    "        return zombies_erradicados\n",
    "        \n",
    "        \n",
    "    def ode_colateral_de_ataques(self, S, I, collateral, n):\n",
    "        muertes_en_combate = collateral * n * (S+I)\n",
    "        return muertes_en_combate"
   ]
  },
  {
   "cell_type": "code",
   "execution_count": 45,
   "id": "9ab1c566",
   "metadata": {},
   "outputs": [
    {
     "name": "stdout",
     "output_type": "stream",
     "text": [
      "Humanos:  999\n",
      "Infectados:  10\n",
      "Zombies:  10\n",
      "Humanos:  -8911\n",
      "Infectados:  10000\n",
      "Zombies:  -20050.0\n"
     ]
    }
   ],
   "source": [
    "N = 1000\n",
    "beta = 1  #Infeccion por encuentro\n",
    "alfa = 0.2 #Tasa de muerte zombie (i.e., que tan probable es matar a un zombie en un encuentro con el)\n",
    "zeta = 0.8 #que tan probable es que alguien que muere de S reviva como zombie\n",
    "#asumimos que los Z no pueden volver a revivir como Z\n",
    "rho = 1.0 # Cuanto tarda un infectado en volverse zombie\n",
    "c = 8 #tasa de curacion\n",
    "\n",
    "escenario_optimista = ODEs(beta=beta, alfa=alfa, zeta=zeta, c=c)\n",
    "\n",
    "\n",
    "S=999\n",
    "I=10\n",
    "Z=10\n",
    "R=0\n",
    "\n",
    "cambio_en_S = 0\n",
    "cambio_en_I = 0\n",
    "cambio_en_Z = 0\n",
    "cambio_en_R = 0\n",
    "while(S >= 0 and Z >= 0):\n",
    "    S += cambio_en_S\n",
    "    I += cambio_en_I\n",
    "    Z += cambio_en_Z\n",
    "    R += cambio_en_R\n",
    "    print(\"Humanos: \", S)\n",
    "    print(\"Infectados: \", I)\n",
    "    print(\"Zombies: \", Z)\n",
    "    cambio_en_S, cambio_en_I, cambio_en_Z, cambio_en_R = escenario_optimista.ode_caso_tratamiento(S, Z, I, R)\n",
    "    \n",
    "    \n",
    "    \n",
    "    \n",
    "    "
   ]
  },
  {
   "cell_type": "code",
   "execution_count": 19,
   "id": "928068b3",
   "metadata": {},
   "outputs": [
    {
     "name": "stdout",
     "output_type": "stream",
     "text": [
      "-89.9\n"
     ]
    }
   ],
   "source": [
    "print(cambio_en_S)"
   ]
  },
  {
   "cell_type": "code",
   "execution_count": null,
   "id": "8e884a3a",
   "metadata": {},
   "outputs": [],
   "source": []
  },
  {
   "cell_type": "code",
   "execution_count": null,
   "id": "dd359376",
   "metadata": {},
   "outputs": [],
   "source": []
  },
  {
   "cell_type": "markdown",
   "id": "c192a61e",
   "metadata": {},
   "source": [
    "### 2. ¿Cuáles son las diferencias entre una epidemia normal (influenza, gripe, peste) y una epidemia zombie?\n"
   ]
  },
  {
   "cell_type": "code",
   "execution_count": null,
   "id": "7d5d0723",
   "metadata": {},
   "outputs": [],
   "source": []
  },
  {
   "cell_type": "code",
   "execution_count": null,
   "id": "3285ad42",
   "metadata": {},
   "outputs": [],
   "source": []
  },
  {
   "cell_type": "code",
   "execution_count": null,
   "id": "46f75586",
   "metadata": {},
   "outputs": [],
   "source": []
  },
  {
   "cell_type": "markdown",
   "id": "70290049",
   "metadata": {},
   "source": [
    "### 3.Criticas\n",
    "Se han hecho muchas críticas al artículo (e.g. _Zombie Apocalypse: An Epidemic Model_) indicando que hay errores y que las gráficas no corresponden ¿Es cierto? Si es afirmativa la respuesta, ¿Cuáles son esos errores?"
   ]
  },
  {
   "cell_type": "code",
   "execution_count": null,
   "id": "849d48ab",
   "metadata": {},
   "outputs": [],
   "source": []
  },
  {
   "cell_type": "markdown",
   "id": "280526ba",
   "metadata": {},
   "source": [
    "## Le faltaron algunos casos: \n",
    "\n",
    "### El caso del tratamiento con inmunidad\n",
    "\n",
    "### Las muertes colaterales cuando se ataca a los zombies\n",
    "\n",
    "###  "
   ]
  },
  {
   "cell_type": "code",
   "execution_count": null,
   "id": "4ba66c05",
   "metadata": {},
   "outputs": [],
   "source": []
  },
  {
   "cell_type": "code",
   "execution_count": null,
   "id": "94fec9b6",
   "metadata": {},
   "outputs": [],
   "source": []
  },
  {
   "cell_type": "markdown",
   "id": "1a02f925",
   "metadata": {},
   "source": [
    "### 4. Upgrades\n",
    "De la presentación _Zombie Apocalypse: An Epidemic Model_ se presentan varios `upgrades`, desarróllalos y coméntalos ¿Por qué son `upgrades`? ¿Qué mejoras proponen?\n"
   ]
  },
  {
   "cell_type": "code",
   "execution_count": null,
   "id": "812fa0a4",
   "metadata": {},
   "outputs": [],
   "source": []
  },
  {
   "cell_type": "code",
   "execution_count": null,
   "id": "8b772dec",
   "metadata": {},
   "outputs": [],
   "source": []
  },
  {
   "cell_type": "code",
   "execution_count": null,
   "id": "95b4fd7c",
   "metadata": {},
   "outputs": [],
   "source": []
  },
  {
   "cell_type": "markdown",
   "id": "0acb3aeb",
   "metadata": {},
   "source": [
    "### 5.1 **Agentes** \n",
    "Use la clase agente para modelar una epidemia Zombie como se describe en [Agent-Based Computational Model of Humanity’s Prospects for Post Zombie Outbreak Survival](http://thetortoiseslens.blogspot.mx/2010/03/agent-based-computational-model-of.html). Utiliza el diagrama del artículo _SimZombie: A Case-Study in Agent-Based Simulation Construction_ como guía."
   ]
  },
  {
   "cell_type": "code",
   "execution_count": null,
   "id": "f6d35b42",
   "metadata": {},
   "outputs": [],
   "source": []
  },
  {
   "cell_type": "code",
   "execution_count": null,
   "id": "88e7217a",
   "metadata": {},
   "outputs": [],
   "source": []
  },
  {
   "cell_type": "code",
   "execution_count": null,
   "id": "68e0c492",
   "metadata": {},
   "outputs": [],
   "source": []
  },
  {
   "cell_type": "code",
   "execution_count": null,
   "id": "d4bd3b7c",
   "metadata": {},
   "outputs": [],
   "source": []
  },
  {
   "cell_type": "markdown",
   "id": "a9952600",
   "metadata": {},
   "source": [
    "### 5.2 **Agentes** \n",
    "Use la clase agente para modelar una epidemia Zombie como se describe en [Zombie Infection Simulator](http://asymptote.wordpress.com/2008/01/13/asymptotes-zombie-infection-simulator/) (Esta incluye humanos que pelean  y humanos en pánico)"
   ]
  },
  {
   "cell_type": "code",
   "execution_count": null,
   "id": "f75fea33",
   "metadata": {},
   "outputs": [],
   "source": []
  },
  {
   "cell_type": "code",
   "execution_count": null,
   "id": "99e6c81e",
   "metadata": {},
   "outputs": [],
   "source": []
  },
  {
   "cell_type": "code",
   "execution_count": null,
   "id": "8c4d186e",
   "metadata": {},
   "outputs": [],
   "source": []
  },
  {
   "cell_type": "code",
   "execution_count": null,
   "id": "26a45527",
   "metadata": {},
   "outputs": [],
   "source": []
  },
  {
   "cell_type": "code",
   "execution_count": null,
   "id": "fef0f430",
   "metadata": {},
   "outputs": [],
   "source": []
  },
  {
   "cell_type": "markdown",
   "id": "00fbb96c",
   "metadata": {},
   "source": [
    "7: Zombies have too many natural predators. Humans are only at the top of the food chain because of our intelligence. Zombies don't have that advantage, so any animal could easily kill a zombie (stray dogs, bears, ect.) Plus, insects.\n",
    "\n",
    "6: They can't take the heat The natural decaying process, exasperated by the daily heat, would cause zombies to basically explode from gas build up. Also, zombies would dry up in dry heat like \"slim jims\".\n",
    "\n",
    "5: They can't take the cold The water in the zombie's bodies would freeze if temps outside reached below the freezing mark. This would make the zombies immobile.\n",
    "\n",
    "4: Biting is a terrible way to spread disease Infectious diseases which spread via biting have a terrible track record. Look at how rare rabies is. It's to obvious a way to spread disease, and the authorities would be able to quarantine, or execute, the infected quickly.\n",
    "\n",
    "3: They can't heal from day to day damage Zombies aren't alive, so their body won't heal. Basic wounds would accumulate and destroy the body quite quickly.\n",
    "\n",
    "2: The landscape is full of zombie proof barriers If the zombies can only travel on foot it'll be hard to see widespread, rapid spreading of the disease. Zombies would either walk off cliffs or similar large drops, or would be corralled into small enough areas by these landmarks to allow mass killings of the infected.\n",
    "\n",
    "1: Weapons and the people who use them Lot of armed people in the States. 14 million people with a hunting license alone. Millions more that have weapons without licenses. The military is suited to take down very large numbers of zombies without getting close enough to get bitten. Zombies have to come in contact with a person to spread their disease, which makes them susceptible to being killed every time they want to claim a new victim."
   ]
  },
  {
   "cell_type": "code",
   "execution_count": null,
   "id": "fab8824c",
   "metadata": {},
   "outputs": [],
   "source": []
  },
  {
   "cell_type": "markdown",
   "id": "64d80cb9",
   "metadata": {},
   "source": [
    "### 6. Preguntas Extras"
   ]
  },
  {
   "cell_type": "markdown",
   "id": "92ed2a7d",
   "metadata": {},
   "source": [
    "#### 6.1 ¿Cómo modelarías una infección de hombres lobos?\n",
    "    - Tip: Necesitas llevar el paso del tiempo"
   ]
  },
  {
   "cell_type": "code",
   "execution_count": null,
   "id": "d5ab23fb",
   "metadata": {},
   "outputs": [],
   "source": []
  },
  {
   "cell_type": "markdown",
   "id": "affa5ff3",
   "metadata": {},
   "source": [
    "#### 6.2 Implementa el agente hombre-lobo"
   ]
  },
  {
   "cell_type": "code",
   "execution_count": null,
   "id": "07d2104c",
   "metadata": {},
   "outputs": [],
   "source": []
  },
  {
   "cell_type": "markdown",
   "id": "a9b19936",
   "metadata": {},
   "source": [
    "#### 6.3 Discute el ejemplo de [z0mb1e](http://www.elliemary.com/agent-based-zombie-model.html), es una de las simulaciones más completas. ¿Qué hay de diferente a la tuya?"
   ]
  },
  {
   "cell_type": "code",
   "execution_count": null,
   "id": "59e73f1f",
   "metadata": {},
   "outputs": [],
   "source": []
  },
  {
   "cell_type": "markdown",
   "id": "d3f2edab",
   "metadata": {},
   "source": [
    "#### 6.4 Desarrolla el agente descrito en ese artículo.\n"
   ]
  },
  {
   "cell_type": "code",
   "execution_count": null,
   "id": "fbe3f287",
   "metadata": {},
   "outputs": [],
   "source": []
  },
  {
   "cell_type": "markdown",
   "id": "792424f3",
   "metadata": {},
   "source": [
    "#### 6.5 Desarrolla una simulación de dicho artículo."
   ]
  },
  {
   "cell_type": "code",
   "execution_count": null,
   "id": "cb93225a",
   "metadata": {},
   "outputs": [],
   "source": []
  },
  {
   "cell_type": "code",
   "execution_count": null,
   "id": "5b0dec0d",
   "metadata": {},
   "outputs": [],
   "source": []
  },
  {
   "cell_type": "code",
   "execution_count": null,
   "id": "60ea894f",
   "metadata": {},
   "outputs": [],
   "source": []
  }
 ],
 "metadata": {
  "kernelspec": {
   "display_name": "Python 3",
   "language": "python",
   "name": "python3"
  },
  "language_info": {
   "codemirror_mode": {
    "name": "ipython",
    "version": 3
   },
   "file_extension": ".py",
   "mimetype": "text/x-python",
   "name": "python",
   "nbconvert_exporter": "python",
   "pygments_lexer": "ipython3",
   "version": "3.8.8"
  }
 },
 "nbformat": 4,
 "nbformat_minor": 5
}
